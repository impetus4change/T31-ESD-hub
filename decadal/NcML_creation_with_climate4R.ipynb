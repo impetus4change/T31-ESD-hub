{
 "cells": [
  {
   "cell_type": "markdown",
   "metadata": {},
   "source": [
    "# NcML dataset creation to start working with the available data\n",
    "\n",
    "## Tools for accessing and processing climate data: Case study with R"
   ]
  },
  {
   "cell_type": "markdown",
   "metadata": {},
   "source": [
    "This worked example uses the `climate4R` framework. Go to [\"climate4R: An R-based Framework for Climate Data Access, Post-processing and Bias Correction\"](https://www.sciencedirect.com/science/article/pii/S1364815218303049), for more information."
   ]
  },
  {
   "cell_type": "markdown",
   "metadata": {},
   "source": [
    "\n",
    "![c4R](https://github.com/SantanderMetGroup/climate4R/blob/devel/man/figures/climate4R_2.png?raw=true)"
   ]
  },
  {
   "cell_type": "markdown",
   "metadata": {},
   "source": [
    "------------"
   ]
  },
  {
   "cell_type": "markdown",
   "metadata": {},
   "source": [
    "## Parameter setting\n",
    "### Set the paths\n",
    "\n"
   ]
  },
  {
   "cell_type": "code",
   "execution_count": 1,
   "metadata": {},
   "outputs": [],
   "source": [
    "work.folder.name <- \"ncml\""
   ]
  },
  {
   "cell_type": "code",
   "execution_count": 2,
   "metadata": {},
   "outputs": [],
   "source": [
    "rootdir <- \"/home/jovyan\"\n",
    "data.dir <- file.path(rootdir, \"IMPETUS4CHANGE\", \"data\")\n",
    "work.dir <- file.path(rootdir, \"work\", work.folder.name)\n",
    "data.dir.obs <- file.path(data.dir, \"BSC/CERRA/daily_mean\")\n",
    "data.dir.pred <- file.path(data.dir, \"/ESGF/CMIP6/DCPP/EC-Earth-Consortium/EC-Earth3/dcppA-hindcast\")"
   ]
  },
  {
   "cell_type": "markdown",
   "metadata": {},
   "source": [
    "### Other settings"
   ]
  },
  {
   "cell_type": "code",
   "execution_count": 3,
   "metadata": {},
   "outputs": [],
   "source": [
    "var <- \"tas\""
   ]
  },
  {
   "cell_type": "markdown",
   "metadata": {},
   "source": [
    "## Library loading"
   ]
  },
  {
   "cell_type": "code",
   "execution_count": 4,
   "metadata": {
    "vscode": {
     "languageId": "r"
    }
   },
   "outputs": [
    {
     "name": "stderr",
     "output_type": "stream",
     "text": [
      "Loading required package: rJava\n",
      "\n",
      "Loading required package: loadeR.java\n",
      "\n",
      "Java version 22x amd64 by N/A detected\n",
      "\n",
      "NetCDF Java Library v4.6.0-SNAPSHOT (23 Apr 2015) loaded and ready\n",
      "\n",
      "Loading required package: climate4R.UDG\n",
      "\n",
      "climate4R.UDG version 0.2.6 (2023-06-26) is loaded\n",
      "\n",
      "Please use 'citation(\"climate4R.UDG\")' to cite this package.\n",
      "\n",
      "loadeR version 1.8.1 (2023-06-22) is loaded\n",
      "\n",
      "WARNING: Your current version of loadeR (v1.8.1) is not up-to-date\n",
      "\n",
      "Get the latest stable version (1.8.2) using <devtools::install_github(c('SantanderMetGroup/climate4R.UDG','SantanderMetGroup/loadeR'))>\n",
      "\n",
      "Please use 'citation(\"loadeR\")' to cite this package.\n",
      "\n"
     ]
    }
   ],
   "source": [
    "library(loadeR)\n",
    "library(magrittr)"
   ]
  },
  {
   "cell_type": "markdown",
   "metadata": {},
   "source": [
    "## NcML creation\n",
    "\n",
    "### Observational reference"
   ]
  },
  {
   "cell_type": "markdown",
   "metadata": {},
   "source": [
    "In this section a single entry point (NcML file) is created to all the NetCDF files correspondint to the selected variable (object `var`) in the observational dataset (CERRA). To do so, first the files in `data.dir.obs` are listed using `pattern = sprintf(\"%s_\", var)`:"
   ]
  },
  {
   "cell_type": "code",
   "execution_count": 5,
   "metadata": {
    "vscode": {
     "languageId": "r"
    }
   },
   "outputs": [
    {
     "data": {
      "text/html": [
       "<style>\n",
       ".list-inline {list-style: none; margin:0; padding: 0}\n",
       ".list-inline>li {display: inline-block}\n",
       ".list-inline>li:not(:last-child)::after {content: \"\\00b7\"; padding: 0 .5ex}\n",
       "</style>\n",
       "<ol class=list-inline><li>'tas_f3h-r2631x1113/tas_198409.nc'</li><li>'tas_f3h-r2631x1113/tas_198410.nc'</li><li>'tas_f3h-r2631x1113/tas_198411.nc'</li><li>'tas_f3h-r2631x1113/tas_198412.nc'</li><li>'tas_f3h-r2631x1113/tas_198501.nc'</li><li>'tas_f3h-r2631x1113/tas_198502.nc'</li></ol>\n"
      ],
      "text/latex": [
       "\\begin{enumerate*}\n",
       "\\item 'tas\\_f3h-r2631x1113/tas\\_198409.nc'\n",
       "\\item 'tas\\_f3h-r2631x1113/tas\\_198410.nc'\n",
       "\\item 'tas\\_f3h-r2631x1113/tas\\_198411.nc'\n",
       "\\item 'tas\\_f3h-r2631x1113/tas\\_198412.nc'\n",
       "\\item 'tas\\_f3h-r2631x1113/tas\\_198501.nc'\n",
       "\\item 'tas\\_f3h-r2631x1113/tas\\_198502.nc'\n",
       "\\end{enumerate*}\n"
      ],
      "text/markdown": [
       "1. 'tas_f3h-r2631x1113/tas_198409.nc'\n",
       "2. 'tas_f3h-r2631x1113/tas_198410.nc'\n",
       "3. 'tas_f3h-r2631x1113/tas_198411.nc'\n",
       "4. 'tas_f3h-r2631x1113/tas_198412.nc'\n",
       "5. 'tas_f3h-r2631x1113/tas_198501.nc'\n",
       "6. 'tas_f3h-r2631x1113/tas_198502.nc'\n",
       "\n",
       "\n"
      ],
      "text/plain": [
       "[1] \"tas_f3h-r2631x1113/tas_198409.nc\" \"tas_f3h-r2631x1113/tas_198410.nc\"\n",
       "[3] \"tas_f3h-r2631x1113/tas_198411.nc\" \"tas_f3h-r2631x1113/tas_198412.nc\"\n",
       "[5] \"tas_f3h-r2631x1113/tas_198501.nc\" \"tas_f3h-r2631x1113/tas_198502.nc\""
      ]
     },
     "metadata": {},
     "output_type": "display_data"
    }
   ],
   "source": [
    "lf.obs <- list.files(data.dir.obs, pattern = sprintf(\"%s_\", var), recursive = T)\n",
    "head(lf.obs)"
   ]
  },
  {
   "cell_type": "markdown",
   "metadata": {},
   "source": [
    "Next, the common directory to the data files is extracted."
   ]
  },
  {
   "cell_type": "code",
   "execution_count": 6,
   "metadata": {
    "vscode": {
     "languageId": "r"
    }
   },
   "outputs": [],
   "source": [
    "var.folder.obs <- unique(dirname(lf.obs))\n",
    "var.dir.obs <- file.path(data.dir.obs, var.folder.obs)"
   ]
  },
  {
   "cell_type": "markdown",
   "metadata": {},
   "source": [
    "Next, the specific path for the NcML is define and created."
   ]
  },
  {
   "cell_type": "code",
   "execution_count": 7,
   "metadata": {
    "vscode": {
     "languageId": "r"
    }
   },
   "outputs": [],
   "source": [
    "ncml.dir.obs <- file.path(work.dir, \"CERRA\")"
   ]
  },
  {
   "cell_type": "code",
   "execution_count": 8,
   "metadata": {
    "vscode": {
     "languageId": "r"
    }
   },
   "outputs": [],
   "source": [
    "if (! dir.exists(ncml.dir.obs))\n",
    "    dir.create(ncml.dir.obs, recursive = TRUE)"
   ]
  },
  {
   "cell_type": "markdown",
   "metadata": {},
   "source": [
    "Define the full path (including filename) of the NcML:"
   ]
  },
  {
   "cell_type": "code",
   "execution_count": 9,
   "metadata": {},
   "outputs": [],
   "source": [
    "ncml.filename.obs <- sprintf(\"%s/%s.ncml\", ncml.dir.obs, var.folder.obs)"
   ]
  },
  {
   "cell_type": "markdown",
   "metadata": {},
   "source": [
    "Create and save the NcML files using function `makeAggregatedDataset`:"
   ]
  },
  {
   "cell_type": "code",
   "execution_count": 10,
   "metadata": {
    "vscode": {
     "languageId": "r"
    }
   },
   "outputs": [],
   "source": [
    "makeAggregatedDataset(\n",
    "    source.dir = var.dir.obs,\n",
    "    ncml.file = ncml.filename.obs,\n",
    "    aggr.dim = \"time\"\n",
    ") %>% suppressMessages"
   ]
  },
  {
   "cell_type": "markdown",
   "metadata": {},
   "source": [
    "The NcML file has been now created in the indicated path. Do an inventory using function `dataInventory` to extract relevan information:"
   ]
  },
  {
   "cell_type": "code",
   "execution_count": 11,
   "metadata": {
    "vscode": {
     "languageId": "r"
    }
   },
   "outputs": [
    {
     "name": "stderr",
     "output_type": "stream",
     "text": [
      "[2024-07-18 11:39:54.0065] Doing inventory ...\n",
      "\n",
      "[2024-07-18 11:39:54.562135] Retrieving info for 'tas' (0 vars remaining)\n",
      "\n",
      "[2024-07-18 11:39:54.640501] Done.\n",
      "\n"
     ]
    }
   ],
   "source": [
    "di <- dataInventory(ncml.filename.obs)"
   ]
  },
  {
   "cell_type": "markdown",
   "metadata": {},
   "source": [
    "For instance the date range:"
   ]
  },
  {
   "cell_type": "code",
   "execution_count": 12,
   "metadata": {
    "vscode": {
     "languageId": "r"
    }
   },
   "outputs": [
    {
     "data": {
      "text/html": [
       "'1984-09-01T10:30:00Z - 2021-06-30T10:30:00Z'"
      ],
      "text/latex": [
       "'1984-09-01T10:30:00Z - 2021-06-30T10:30:00Z'"
      ],
      "text/markdown": [
       "'1984-09-01T10:30:00Z - 2021-06-30T10:30:00Z'"
      ],
      "text/plain": [
       "[1] \"1984-09-01T10:30:00Z - 2021-06-30T10:30:00Z\""
      ]
     },
     "metadata": {},
     "output_type": "display_data"
    }
   ],
   "source": [
    "di$tas$Dimensions$time$Date_range"
   ]
  },
  {
   "cell_type": "markdown",
   "metadata": {},
   "source": [
    "... or other:"
   ]
  },
  {
   "cell_type": "code",
   "execution_count": 13,
   "metadata": {},
   "outputs": [
    {
     "name": "stdout",
     "output_type": "stream",
     "text": [
      "List of 1\n",
      " $ tas:List of 7\n",
      "  ..$ Description: chr \"2 metre temperature\"\n",
      "  ..$ DataType   : chr \"float\"\n",
      "  ..$ Shape      : int [1:3] 13452 1113 2631\n",
      "  ..$ Units      : chr \"K\"\n",
      "  ..$ DataSizeMb : num 157566\n",
      "  ..$ Version    : logi NA\n",
      "  ..$ Dimensions :List of 3\n",
      "  .. ..$ time:List of 4\n",
      "  .. .. ..$ Type      : chr \"Time\"\n",
      "  .. .. ..$ TimeStep  : chr \"24.0 hours\"\n",
      "  .. .. ..$ Units     : chr \"hours since 1984-9-1 00:00:00\"\n",
      "  .. .. ..$ Date_range: chr \"1984-09-01T10:30:00Z - 2021-06-30T10:30:00Z\"\n",
      "  .. ..$ lat :List of 5\n",
      "  .. .. ..$ Type       : chr \"Lat\"\n",
      "  .. .. ..$ Units      : chr \"degrees_north\"\n",
      "  .. .. ..$ Values     : num [1:1113] 19.8 19.8 19.9 19.9 20 ...\n",
      "  .. .. ..$ Shape      : int 1113\n",
      "  .. .. ..$ Coordinates: chr \"lat\"\n",
      "  .. ..$ lon :List of 5\n",
      "  .. .. ..$ Type       : chr \"Lon\"\n",
      "  .. .. ..$ Units      : chr \"degrees_east\"\n",
      "  .. .. ..$ Values     : num [1:2631] -57.7 -57.6 -57.6 -57.5 -57.5 ...\n",
      "  .. .. ..$ Shape      : int 2631\n",
      "  .. .. ..$ Coordinates: chr \"lon\"\n"
     ]
    }
   ],
   "source": [
    "str(di)"
   ]
  },
  {
   "cell_type": "markdown",
   "metadata": {},
   "source": [
    "### Decadal predictions"
   ]
  },
  {
   "cell_type": "markdown",
   "metadata": {},
   "source": [
    "Creating NcML for the decadal hindcast follows the same steps, except that an NcML is created for each initialization."
   ]
  },
  {
   "cell_type": "code",
   "execution_count": 14,
   "metadata": {
    "vscode": {
     "languageId": "r"
    }
   },
   "outputs": [
    {
     "data": {
      "text/html": [
       "<style>\n",
       ".list-inline {list-style: none; margin:0; padding: 0}\n",
       ".list-inline>li {display: inline-block}\n",
       ".list-inline>li:not(:last-child)::after {content: \"\\00b7\"; padding: 0 .5ex}\n",
       "</style>\n",
       "<ol class=list-inline><li>'s1960-r1i4p1f1/day/tas/gr/v20220322/tas_day_EC-Earth3_dcppA-hindcast_s1960-r1i4p1f1_gr_19601101-19611031.nc'</li><li>'s1960-r1i4p1f1/day/tas/gr/v20220322/tas_day_EC-Earth3_dcppA-hindcast_s1960-r1i4p1f1_gr_19611101-19621031.nc'</li><li>'s1960-r1i4p1f1/day/tas/gr/v20220322/tas_day_EC-Earth3_dcppA-hindcast_s1960-r1i4p1f1_gr_19621101-19631031.nc'</li><li>'s1960-r1i4p1f1/day/tas/gr/v20220322/tas_day_EC-Earth3_dcppA-hindcast_s1960-r1i4p1f1_gr_19631101-19641031.nc'</li><li>'s1960-r1i4p1f1/day/tas/gr/v20220322/tas_day_EC-Earth3_dcppA-hindcast_s1960-r1i4p1f1_gr_19641101-19651031.nc'</li><li>'s1960-r1i4p1f1/day/tas/gr/v20220322/tas_day_EC-Earth3_dcppA-hindcast_s1960-r1i4p1f1_gr_19651101-19661031.nc'</li></ol>\n"
      ],
      "text/latex": [
       "\\begin{enumerate*}\n",
       "\\item 's1960-r1i4p1f1/day/tas/gr/v20220322/tas\\_day\\_EC-Earth3\\_dcppA-hindcast\\_s1960-r1i4p1f1\\_gr\\_19601101-19611031.nc'\n",
       "\\item 's1960-r1i4p1f1/day/tas/gr/v20220322/tas\\_day\\_EC-Earth3\\_dcppA-hindcast\\_s1960-r1i4p1f1\\_gr\\_19611101-19621031.nc'\n",
       "\\item 's1960-r1i4p1f1/day/tas/gr/v20220322/tas\\_day\\_EC-Earth3\\_dcppA-hindcast\\_s1960-r1i4p1f1\\_gr\\_19621101-19631031.nc'\n",
       "\\item 's1960-r1i4p1f1/day/tas/gr/v20220322/tas\\_day\\_EC-Earth3\\_dcppA-hindcast\\_s1960-r1i4p1f1\\_gr\\_19631101-19641031.nc'\n",
       "\\item 's1960-r1i4p1f1/day/tas/gr/v20220322/tas\\_day\\_EC-Earth3\\_dcppA-hindcast\\_s1960-r1i4p1f1\\_gr\\_19641101-19651031.nc'\n",
       "\\item 's1960-r1i4p1f1/day/tas/gr/v20220322/tas\\_day\\_EC-Earth3\\_dcppA-hindcast\\_s1960-r1i4p1f1\\_gr\\_19651101-19661031.nc'\n",
       "\\end{enumerate*}\n"
      ],
      "text/markdown": [
       "1. 's1960-r1i4p1f1/day/tas/gr/v20220322/tas_day_EC-Earth3_dcppA-hindcast_s1960-r1i4p1f1_gr_19601101-19611031.nc'\n",
       "2. 's1960-r1i4p1f1/day/tas/gr/v20220322/tas_day_EC-Earth3_dcppA-hindcast_s1960-r1i4p1f1_gr_19611101-19621031.nc'\n",
       "3. 's1960-r1i4p1f1/day/tas/gr/v20220322/tas_day_EC-Earth3_dcppA-hindcast_s1960-r1i4p1f1_gr_19621101-19631031.nc'\n",
       "4. 's1960-r1i4p1f1/day/tas/gr/v20220322/tas_day_EC-Earth3_dcppA-hindcast_s1960-r1i4p1f1_gr_19631101-19641031.nc'\n",
       "5. 's1960-r1i4p1f1/day/tas/gr/v20220322/tas_day_EC-Earth3_dcppA-hindcast_s1960-r1i4p1f1_gr_19641101-19651031.nc'\n",
       "6. 's1960-r1i4p1f1/day/tas/gr/v20220322/tas_day_EC-Earth3_dcppA-hindcast_s1960-r1i4p1f1_gr_19651101-19661031.nc'\n",
       "\n",
       "\n"
      ],
      "text/plain": [
       "[1] \"s1960-r1i4p1f1/day/tas/gr/v20220322/tas_day_EC-Earth3_dcppA-hindcast_s1960-r1i4p1f1_gr_19601101-19611031.nc\"\n",
       "[2] \"s1960-r1i4p1f1/day/tas/gr/v20220322/tas_day_EC-Earth3_dcppA-hindcast_s1960-r1i4p1f1_gr_19611101-19621031.nc\"\n",
       "[3] \"s1960-r1i4p1f1/day/tas/gr/v20220322/tas_day_EC-Earth3_dcppA-hindcast_s1960-r1i4p1f1_gr_19621101-19631031.nc\"\n",
       "[4] \"s1960-r1i4p1f1/day/tas/gr/v20220322/tas_day_EC-Earth3_dcppA-hindcast_s1960-r1i4p1f1_gr_19631101-19641031.nc\"\n",
       "[5] \"s1960-r1i4p1f1/day/tas/gr/v20220322/tas_day_EC-Earth3_dcppA-hindcast_s1960-r1i4p1f1_gr_19641101-19651031.nc\"\n",
       "[6] \"s1960-r1i4p1f1/day/tas/gr/v20220322/tas_day_EC-Earth3_dcppA-hindcast_s1960-r1i4p1f1_gr_19651101-19661031.nc\""
      ]
     },
     "metadata": {},
     "output_type": "display_data"
    }
   ],
   "source": [
    "lf <- list.files(data.dir.pred, recursive = T, pattern = sprintf(\"%s_.*hindcast\", var))\n",
    "head(lf)"
   ]
  },
  {
   "cell_type": "code",
   "execution_count": 15,
   "metadata": {
    "vscode": {
     "languageId": "r"
    }
   },
   "outputs": [
    {
     "data": {
      "text/html": [
       "<style>\n",
       ".list-inline {list-style: none; margin:0; padding: 0}\n",
       ".list-inline>li {display: inline-block}\n",
       ".list-inline>li:not(:last-child)::after {content: \"\\00b7\"; padding: 0 .5ex}\n",
       "</style>\n",
       "<ol class=list-inline><li>'s2003-r1i4p1f1/day/tas/gr/v20220322/tas_day_EC-Earth3_dcppA-hindcast_s2003-r1i4p1f1_gr_20081101-20091031.nc'</li><li>'s2003-r1i4p1f1/day/tas/gr/v20220322/tas_day_EC-Earth3_dcppA-hindcast_s2003-r1i4p1f1_gr_20091101-20101031.nc'</li><li>'s2003-r1i4p1f1/day/tas/gr/v20220322/tas_day_EC-Earth3_dcppA-hindcast_s2003-r1i4p1f1_gr_20101101-20111031.nc'</li><li>'s2003-r1i4p1f1/day/tas/gr/v20220322/tas_day_EC-Earth3_dcppA-hindcast_s2003-r1i4p1f1_gr_20111101-20121031.nc'</li><li>'s2003-r1i4p1f1/day/tas/gr/v20220322/tas_day_EC-Earth3_dcppA-hindcast_s2003-r1i4p1f1_gr_20121101-20131031.nc'</li><li>'s2003-r1i4p1f1/day/tas/gr/v20220322/tas_day_EC-Earth3_dcppA-hindcast_s2003-r1i4p1f1_gr_20131101-20141031.nc'</li></ol>\n"
      ],
      "text/latex": [
       "\\begin{enumerate*}\n",
       "\\item 's2003-r1i4p1f1/day/tas/gr/v20220322/tas\\_day\\_EC-Earth3\\_dcppA-hindcast\\_s2003-r1i4p1f1\\_gr\\_20081101-20091031.nc'\n",
       "\\item 's2003-r1i4p1f1/day/tas/gr/v20220322/tas\\_day\\_EC-Earth3\\_dcppA-hindcast\\_s2003-r1i4p1f1\\_gr\\_20091101-20101031.nc'\n",
       "\\item 's2003-r1i4p1f1/day/tas/gr/v20220322/tas\\_day\\_EC-Earth3\\_dcppA-hindcast\\_s2003-r1i4p1f1\\_gr\\_20101101-20111031.nc'\n",
       "\\item 's2003-r1i4p1f1/day/tas/gr/v20220322/tas\\_day\\_EC-Earth3\\_dcppA-hindcast\\_s2003-r1i4p1f1\\_gr\\_20111101-20121031.nc'\n",
       "\\item 's2003-r1i4p1f1/day/tas/gr/v20220322/tas\\_day\\_EC-Earth3\\_dcppA-hindcast\\_s2003-r1i4p1f1\\_gr\\_20121101-20131031.nc'\n",
       "\\item 's2003-r1i4p1f1/day/tas/gr/v20220322/tas\\_day\\_EC-Earth3\\_dcppA-hindcast\\_s2003-r1i4p1f1\\_gr\\_20131101-20141031.nc'\n",
       "\\end{enumerate*}\n"
      ],
      "text/markdown": [
       "1. 's2003-r1i4p1f1/day/tas/gr/v20220322/tas_day_EC-Earth3_dcppA-hindcast_s2003-r1i4p1f1_gr_20081101-20091031.nc'\n",
       "2. 's2003-r1i4p1f1/day/tas/gr/v20220322/tas_day_EC-Earth3_dcppA-hindcast_s2003-r1i4p1f1_gr_20091101-20101031.nc'\n",
       "3. 's2003-r1i4p1f1/day/tas/gr/v20220322/tas_day_EC-Earth3_dcppA-hindcast_s2003-r1i4p1f1_gr_20101101-20111031.nc'\n",
       "4. 's2003-r1i4p1f1/day/tas/gr/v20220322/tas_day_EC-Earth3_dcppA-hindcast_s2003-r1i4p1f1_gr_20111101-20121031.nc'\n",
       "5. 's2003-r1i4p1f1/day/tas/gr/v20220322/tas_day_EC-Earth3_dcppA-hindcast_s2003-r1i4p1f1_gr_20121101-20131031.nc'\n",
       "6. 's2003-r1i4p1f1/day/tas/gr/v20220322/tas_day_EC-Earth3_dcppA-hindcast_s2003-r1i4p1f1_gr_20131101-20141031.nc'\n",
       "\n",
       "\n"
      ],
      "text/plain": [
       "[1] \"s2003-r1i4p1f1/day/tas/gr/v20220322/tas_day_EC-Earth3_dcppA-hindcast_s2003-r1i4p1f1_gr_20081101-20091031.nc\"\n",
       "[2] \"s2003-r1i4p1f1/day/tas/gr/v20220322/tas_day_EC-Earth3_dcppA-hindcast_s2003-r1i4p1f1_gr_20091101-20101031.nc\"\n",
       "[3] \"s2003-r1i4p1f1/day/tas/gr/v20220322/tas_day_EC-Earth3_dcppA-hindcast_s2003-r1i4p1f1_gr_20101101-20111031.nc\"\n",
       "[4] \"s2003-r1i4p1f1/day/tas/gr/v20220322/tas_day_EC-Earth3_dcppA-hindcast_s2003-r1i4p1f1_gr_20111101-20121031.nc\"\n",
       "[5] \"s2003-r1i4p1f1/day/tas/gr/v20220322/tas_day_EC-Earth3_dcppA-hindcast_s2003-r1i4p1f1_gr_20121101-20131031.nc\"\n",
       "[6] \"s2003-r1i4p1f1/day/tas/gr/v20220322/tas_day_EC-Earth3_dcppA-hindcast_s2003-r1i4p1f1_gr_20131101-20141031.nc\""
      ]
     },
     "metadata": {},
     "output_type": "display_data"
    }
   ],
   "source": [
    "tail(lf)"
   ]
  },
  {
   "cell_type": "markdown",
   "metadata": {},
   "source": [
    "Unlike the case with observational data in the previous section, here we obtain several shared directories, each corresponding to a different initialization (object `dir.inits`)."
   ]
  },
  {
   "cell_type": "code",
   "execution_count": 16,
   "metadata": {
    "vscode": {
     "languageId": "r"
    }
   },
   "outputs": [
    {
     "data": {
      "text/html": [
       "<style>\n",
       ".list-inline {list-style: none; margin:0; padding: 0}\n",
       ".list-inline>li {display: inline-block}\n",
       ".list-inline>li:not(:last-child)::after {content: \"\\00b7\"; padding: 0 .5ex}\n",
       "</style>\n",
       "<ol class=list-inline><li>'s1960-r1i4p1f1/day/tas/gr/v20220322'</li><li>'s1961-r1i4p1f1/day/tas/gr/v20220322'</li><li>'s1962-r1i4p1f1/day/tas/gr/v20220322'</li><li>'s1963-r1i4p1f1/day/tas/gr/v20220322'</li><li>'s1964-r1i4p1f1/day/tas/gr/v20220322'</li><li>'s1965-r1i4p1f1/day/tas/gr/v20220322'</li></ol>\n"
      ],
      "text/latex": [
       "\\begin{enumerate*}\n",
       "\\item 's1960-r1i4p1f1/day/tas/gr/v20220322'\n",
       "\\item 's1961-r1i4p1f1/day/tas/gr/v20220322'\n",
       "\\item 's1962-r1i4p1f1/day/tas/gr/v20220322'\n",
       "\\item 's1963-r1i4p1f1/day/tas/gr/v20220322'\n",
       "\\item 's1964-r1i4p1f1/day/tas/gr/v20220322'\n",
       "\\item 's1965-r1i4p1f1/day/tas/gr/v20220322'\n",
       "\\end{enumerate*}\n"
      ],
      "text/markdown": [
       "1. 's1960-r1i4p1f1/day/tas/gr/v20220322'\n",
       "2. 's1961-r1i4p1f1/day/tas/gr/v20220322'\n",
       "3. 's1962-r1i4p1f1/day/tas/gr/v20220322'\n",
       "4. 's1963-r1i4p1f1/day/tas/gr/v20220322'\n",
       "5. 's1964-r1i4p1f1/day/tas/gr/v20220322'\n",
       "6. 's1965-r1i4p1f1/day/tas/gr/v20220322'\n",
       "\n",
       "\n"
      ],
      "text/plain": [
       "[1] \"s1960-r1i4p1f1/day/tas/gr/v20220322\" \"s1961-r1i4p1f1/day/tas/gr/v20220322\"\n",
       "[3] \"s1962-r1i4p1f1/day/tas/gr/v20220322\" \"s1963-r1i4p1f1/day/tas/gr/v20220322\"\n",
       "[5] \"s1964-r1i4p1f1/day/tas/gr/v20220322\" \"s1965-r1i4p1f1/day/tas/gr/v20220322\""
      ]
     },
     "metadata": {},
     "output_type": "display_data"
    }
   ],
   "source": [
    "dir.inits <- unique(dirname(lf))\n",
    "head(dir.inits)"
   ]
  },
  {
   "cell_type": "code",
   "execution_count": 17,
   "metadata": {},
   "outputs": [
    {
     "data": {
      "text/html": [
       "<style>\n",
       ".list-inline {list-style: none; margin:0; padding: 0}\n",
       ".list-inline>li {display: inline-block}\n",
       ".list-inline>li:not(:last-child)::after {content: \"\\00b7\"; padding: 0 .5ex}\n",
       "</style>\n",
       "<ol class=list-inline><li>'s1998-r1i4p1f1/day/tas/gr/v20220322'</li><li>'s1999-r1i4p1f1/day/tas/gr/v20220322'</li><li>'s2000-r1i4p1f1/day/tas/gr/v20220322'</li><li>'s2001-r1i4p1f1/day/tas/gr/v20220322'</li><li>'s2002-r1i4p1f1/day/tas/gr/v20220322'</li><li>'s2003-r1i4p1f1/day/tas/gr/v20220322'</li></ol>\n"
      ],
      "text/latex": [
       "\\begin{enumerate*}\n",
       "\\item 's1998-r1i4p1f1/day/tas/gr/v20220322'\n",
       "\\item 's1999-r1i4p1f1/day/tas/gr/v20220322'\n",
       "\\item 's2000-r1i4p1f1/day/tas/gr/v20220322'\n",
       "\\item 's2001-r1i4p1f1/day/tas/gr/v20220322'\n",
       "\\item 's2002-r1i4p1f1/day/tas/gr/v20220322'\n",
       "\\item 's2003-r1i4p1f1/day/tas/gr/v20220322'\n",
       "\\end{enumerate*}\n"
      ],
      "text/markdown": [
       "1. 's1998-r1i4p1f1/day/tas/gr/v20220322'\n",
       "2. 's1999-r1i4p1f1/day/tas/gr/v20220322'\n",
       "3. 's2000-r1i4p1f1/day/tas/gr/v20220322'\n",
       "4. 's2001-r1i4p1f1/day/tas/gr/v20220322'\n",
       "5. 's2002-r1i4p1f1/day/tas/gr/v20220322'\n",
       "6. 's2003-r1i4p1f1/day/tas/gr/v20220322'\n",
       "\n",
       "\n"
      ],
      "text/plain": [
       "[1] \"s1998-r1i4p1f1/day/tas/gr/v20220322\" \"s1999-r1i4p1f1/day/tas/gr/v20220322\"\n",
       "[3] \"s2000-r1i4p1f1/day/tas/gr/v20220322\" \"s2001-r1i4p1f1/day/tas/gr/v20220322\"\n",
       "[5] \"s2002-r1i4p1f1/day/tas/gr/v20220322\" \"s2003-r1i4p1f1/day/tas/gr/v20220322\""
      ]
     },
     "metadata": {},
     "output_type": "display_data"
    }
   ],
   "source": [
    "tail(dir.inits)"
   ]
  },
  {
   "cell_type": "markdown",
   "metadata": {},
   "source": [
    "Next, the path for the NcMLs is define and created:"
   ]
  },
  {
   "cell_type": "code",
   "execution_count": 18,
   "metadata": {
    "vscode": {
     "languageId": "r"
    }
   },
   "outputs": [],
   "source": [
    "ncml.dir.pred <- file.path(work.dir, \"EC-Earth3/dcppA-hindcast\")\n",
    "if (! dir.exists(ncml.dir.pred))\n",
    "    dir.create(ncml.dir.pred, recursive = TRUE)"
   ]
  },
  {
   "cell_type": "markdown",
   "metadata": {},
   "source": [
    "`makeAggregatedDataset` is applied in a loop, pointing to a different initialization in each iteration:"
   ]
  },
  {
   "cell_type": "code",
   "execution_count": 19,
   "metadata": {
    "vscode": {
     "languageId": "r"
    }
   },
   "outputs": [],
   "source": [
    "for (d in dir.inits)\n",
    "    makeAggregatedDataset(\n",
    "        source.dir = sprintf(\"%s/%s\", data.dir.pred, d), \n",
    "        ncml.file = sprintf(\"%s/%s.ncml\", ncml.dir.pred, gsub(\"/\", \"_\", d)),\n",
    "        aggr.dim = \"time\"\n",
    "    ) %>% suppressMessages"
   ]
  },
  {
   "cell_type": "code",
   "execution_count": 20,
   "metadata": {
    "vscode": {
     "languageId": "r"
    }
   },
   "outputs": [
    {
     "data": {
      "text/html": [
       "<style>\n",
       ".list-inline {list-style: none; margin:0; padding: 0}\n",
       ".list-inline>li {display: inline-block}\n",
       ".list-inline>li:not(:last-child)::after {content: \"\\00b7\"; padding: 0 .5ex}\n",
       "</style>\n",
       "<ol class=list-inline><li>'/home/jovyan/work/ncml/EC-Earth3/dcppA-hindcast/s1960-r1i4p1f1_day_tas_gr_v20220322.ncml'</li><li>'/home/jovyan/work/ncml/EC-Earth3/dcppA-hindcast/s1961-r1i4p1f1_day_tas_gr_v20220322.ncml'</li><li>'/home/jovyan/work/ncml/EC-Earth3/dcppA-hindcast/s1962-r1i4p1f1_day_tas_gr_v20220322.ncml'</li><li>'/home/jovyan/work/ncml/EC-Earth3/dcppA-hindcast/s1963-r1i4p1f1_day_tas_gr_v20220322.ncml'</li><li>'/home/jovyan/work/ncml/EC-Earth3/dcppA-hindcast/s1964-r1i4p1f1_day_tas_gr_v20220322.ncml'</li><li>'/home/jovyan/work/ncml/EC-Earth3/dcppA-hindcast/s1965-r1i4p1f1_day_tas_gr_v20220322.ncml'</li></ol>\n"
      ],
      "text/latex": [
       "\\begin{enumerate*}\n",
       "\\item '/home/jovyan/work/ncml/EC-Earth3/dcppA-hindcast/s1960-r1i4p1f1\\_day\\_tas\\_gr\\_v20220322.ncml'\n",
       "\\item '/home/jovyan/work/ncml/EC-Earth3/dcppA-hindcast/s1961-r1i4p1f1\\_day\\_tas\\_gr\\_v20220322.ncml'\n",
       "\\item '/home/jovyan/work/ncml/EC-Earth3/dcppA-hindcast/s1962-r1i4p1f1\\_day\\_tas\\_gr\\_v20220322.ncml'\n",
       "\\item '/home/jovyan/work/ncml/EC-Earth3/dcppA-hindcast/s1963-r1i4p1f1\\_day\\_tas\\_gr\\_v20220322.ncml'\n",
       "\\item '/home/jovyan/work/ncml/EC-Earth3/dcppA-hindcast/s1964-r1i4p1f1\\_day\\_tas\\_gr\\_v20220322.ncml'\n",
       "\\item '/home/jovyan/work/ncml/EC-Earth3/dcppA-hindcast/s1965-r1i4p1f1\\_day\\_tas\\_gr\\_v20220322.ncml'\n",
       "\\end{enumerate*}\n"
      ],
      "text/markdown": [
       "1. '/home/jovyan/work/ncml/EC-Earth3/dcppA-hindcast/s1960-r1i4p1f1_day_tas_gr_v20220322.ncml'\n",
       "2. '/home/jovyan/work/ncml/EC-Earth3/dcppA-hindcast/s1961-r1i4p1f1_day_tas_gr_v20220322.ncml'\n",
       "3. '/home/jovyan/work/ncml/EC-Earth3/dcppA-hindcast/s1962-r1i4p1f1_day_tas_gr_v20220322.ncml'\n",
       "4. '/home/jovyan/work/ncml/EC-Earth3/dcppA-hindcast/s1963-r1i4p1f1_day_tas_gr_v20220322.ncml'\n",
       "5. '/home/jovyan/work/ncml/EC-Earth3/dcppA-hindcast/s1964-r1i4p1f1_day_tas_gr_v20220322.ncml'\n",
       "6. '/home/jovyan/work/ncml/EC-Earth3/dcppA-hindcast/s1965-r1i4p1f1_day_tas_gr_v20220322.ncml'\n",
       "\n",
       "\n"
      ],
      "text/plain": [
       "[1] \"/home/jovyan/work/ncml/EC-Earth3/dcppA-hindcast/s1960-r1i4p1f1_day_tas_gr_v20220322.ncml\"\n",
       "[2] \"/home/jovyan/work/ncml/EC-Earth3/dcppA-hindcast/s1961-r1i4p1f1_day_tas_gr_v20220322.ncml\"\n",
       "[3] \"/home/jovyan/work/ncml/EC-Earth3/dcppA-hindcast/s1962-r1i4p1f1_day_tas_gr_v20220322.ncml\"\n",
       "[4] \"/home/jovyan/work/ncml/EC-Earth3/dcppA-hindcast/s1963-r1i4p1f1_day_tas_gr_v20220322.ncml\"\n",
       "[5] \"/home/jovyan/work/ncml/EC-Earth3/dcppA-hindcast/s1964-r1i4p1f1_day_tas_gr_v20220322.ncml\"\n",
       "[6] \"/home/jovyan/work/ncml/EC-Earth3/dcppA-hindcast/s1965-r1i4p1f1_day_tas_gr_v20220322.ncml\""
      ]
     },
     "metadata": {},
     "output_type": "display_data"
    }
   ],
   "source": [
    "ncml.filenames.pred <- list.files(ncml.dir.pred, full.names = T) \n",
    "head(ncml.filenames.pred)"
   ]
  },
  {
   "cell_type": "markdown",
   "metadata": {},
   "source": [
    "Perform a data inventory to extract the relevant information. For instance for the first initialization:"
   ]
  },
  {
   "cell_type": "code",
   "execution_count": 21,
   "metadata": {
    "vscode": {
     "languageId": "r"
    }
   },
   "outputs": [
    {
     "name": "stderr",
     "output_type": "stream",
     "text": [
      "[2024-07-18 11:40:02.591065] Doing inventory ...\n",
      "\n",
      "[2024-07-18 11:40:02.631567] Retrieving info for 'tas' (0 vars remaining)\n",
      "\n",
      "[2024-07-18 11:40:02.691593] Done.\n",
      "\n"
     ]
    }
   ],
   "source": [
    "di <- dataInventory(ncml.filenames.pred[1])"
   ]
  },
  {
   "cell_type": "code",
   "execution_count": 22,
   "metadata": {
    "vscode": {
     "languageId": "r"
    }
   },
   "outputs": [
    {
     "name": "stdout",
     "output_type": "stream",
     "text": [
      "List of 1\n",
      " $ tas:List of 7\n",
      "  ..$ Description: chr \"Near-Surface Air Temperature\"\n",
      "  ..$ DataType   : chr \"float\"\n",
      "  ..$ Shape      : int [1:3] 4017 256 512\n",
      "  ..$ Units      : chr \"K\"\n",
      "  ..$ DataSizeMb : num 2106\n",
      "  ..$ Version    : logi NA\n",
      "  ..$ Dimensions :List of 3\n",
      "  .. ..$ time:List of 4\n",
      "  .. .. ..$ Type      : chr \"Time\"\n",
      "  .. .. ..$ TimeStep  : chr \"1.0 days\"\n",
      "  .. .. ..$ Units     : chr \"days since 1850-01-01 00:00:00\"\n",
      "  .. .. ..$ Date_range: chr \"1960-11-01T12:00:00Z - 1971-10-31T12:00:00Z\"\n",
      "  .. ..$ lat :List of 5\n",
      "  .. .. ..$ Type       : chr \"Lat\"\n",
      "  .. .. ..$ Units      : chr \"degrees_north\"\n",
      "  .. .. ..$ Values     : num [1:256] -89.5 -88.8 -88.1 -87.4 -86.7 ...\n",
      "  .. .. ..$ Shape      : int 256\n",
      "  .. .. ..$ Coordinates: chr \"lat\"\n",
      "  .. ..$ lon :List of 5\n",
      "  .. .. ..$ Type       : chr \"Lon\"\n",
      "  .. .. ..$ Units      : chr \"degrees_east\"\n",
      "  .. .. ..$ Values     : num [1:512] 0 0.703 1.406 2.109 2.812 ...\n",
      "  .. .. ..$ Shape      : int 512\n",
      "  .. .. ..$ Coordinates: chr \"lon\"\n"
     ]
    }
   ],
   "source": [
    "str(di)"
   ]
  },
  {
   "cell_type": "markdown",
   "metadata": {},
   "source": [
    "\n",
    "***\n",
    "Note: Repeat the operations in this notebook for additional variables if needed.\n",
    "***"
   ]
  }
 ],
 "metadata": {
  "kernelspec": {
   "display_name": "climate4R",
   "language": "R",
   "name": "climate4r"
  },
  "language_info": {
   "codemirror_mode": "r",
   "file_extension": ".r",
   "mimetype": "text/x-r-source",
   "name": "R",
   "pygments_lexer": "r",
   "version": "4.3.3"
  }
 },
 "nbformat": 4,
 "nbformat_minor": 4
}
