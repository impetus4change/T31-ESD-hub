{
 "cells": [
  {
   "cell_type": "markdown",
   "metadata": {},
   "source": [
    "# NcML creation\n",
    "\n",
    "## Tools for accessing and processing climate data: Case study with R"
   ]
  },
  {
   "cell_type": "markdown",
   "metadata": {},
   "source": [
    "****\n",
    "![c4R](shared/figs/climate4R_esquema.png)"
   ]
  },
  {
   "cell_type": "markdown",
   "metadata": {},
   "source": [
    "------------"
   ]
  },
  {
   "cell_type": "markdown",
   "metadata": {},
   "source": [
    "This worked example contains the code that reproduces part of the examples shown in the paper [\"climate4R: An R-based Framework for Climate Data Access, Post-processing and Bias Correction\"](https://www.sciencedirect.com/science/article/pii/S1364815218303049)."
   ]
  },
  {
   "cell_type": "code",
   "execution_count": 1,
   "metadata": {
    "vscode": {
     "languageId": "r"
    }
   },
   "outputs": [
    {
     "name": "stderr",
     "output_type": "stream",
     "text": [
      "Loading required package: rJava\n",
      "\n",
      "Loading required package: loadeR.java\n",
      "\n",
      "Java version 11x amd64 by Oracle Corporation detected\n",
      "\n",
      "NetCDF Java Library v4.6.0-SNAPSHOT (23 Apr 2015) loaded and ready\n",
      "\n",
      "Loading required package: climate4R.UDG\n",
      "\n",
      "climate4R.UDG version 0.2.3 (2021-07-05) is loaded\n",
      "\n",
      "WARNING: Your current version of climate4R.UDG (v0.2.3) is not up-to-date\n",
      "\n",
      "Get the latest stable version (0.2.4) using <devtools::install_github('SantanderMetGroup/climate4R.UDG')>\n",
      "\n",
      "Please use 'citation(\"climate4R.UDG\")' to cite this package.\n",
      "\n",
      "loadeR version 1.7.1 (2021-07-05) is loaded\n",
      "\n",
      "WARNING: Your current version of loadeR (v1.7.1) is not up-to-date\n",
      "\n",
      "Get the latest stable version (1.8.1) using <devtools::install_github(c('SantanderMetGroup/climate4R.UDG','SantanderMetGroup/loadeR'))>\n",
      "\n",
      "Please use 'citation(\"loadeR\")' to cite this package.\n",
      "\n"
     ]
    }
   ],
   "source": [
    "library(loadeR)"
   ]
  },
  {
   "cell_type": "markdown",
   "metadata": {},
   "source": [
    "***\n",
    "# 1. NcML creation\n",
    "\n",
    "## 1.1. Observational reference"
   ]
  },
  {
   "cell_type": "code",
   "execution_count": 2,
   "metadata": {
    "vscode": {
     "languageId": "r"
    }
   },
   "outputs": [],
   "source": [
    "data.dir.obs <- \"../../IMPETUS4CHANGE/data/BSC/CERRA/daily_mean/\""
   ]
  },
  {
   "cell_type": "code",
   "execution_count": 3,
   "metadata": {
    "vscode": {
     "languageId": "r"
    }
   },
   "outputs": [
    {
     "data": {
      "text/html": [
       "<style>\n",
       ".list-inline {list-style: none; margin:0; padding: 0}\n",
       ".list-inline>li {display: inline-block}\n",
       ".list-inline>li:not(:last-child)::after {content: \"\\00b7\"; padding: 0 .5ex}\n",
       "</style>\n",
       "<ol class=list-inline><li>'tas_f3h-r2631x1113/tas_198409.nc'</li><li>'tas_f3h-r2631x1113/tas_198410.nc'</li><li>'tas_f3h-r2631x1113/tas_198411.nc'</li><li>'tas_f3h-r2631x1113/tas_198412.nc'</li><li>'tas_f3h-r2631x1113/tas_198501.nc'</li><li>'tas_f3h-r2631x1113/tas_198502.nc'</li></ol>\n"
      ],
      "text/latex": [
       "\\begin{enumerate*}\n",
       "\\item 'tas\\_f3h-r2631x1113/tas\\_198409.nc'\n",
       "\\item 'tas\\_f3h-r2631x1113/tas\\_198410.nc'\n",
       "\\item 'tas\\_f3h-r2631x1113/tas\\_198411.nc'\n",
       "\\item 'tas\\_f3h-r2631x1113/tas\\_198412.nc'\n",
       "\\item 'tas\\_f3h-r2631x1113/tas\\_198501.nc'\n",
       "\\item 'tas\\_f3h-r2631x1113/tas\\_198502.nc'\n",
       "\\end{enumerate*}\n"
      ],
      "text/markdown": [
       "1. 'tas_f3h-r2631x1113/tas_198409.nc'\n",
       "2. 'tas_f3h-r2631x1113/tas_198410.nc'\n",
       "3. 'tas_f3h-r2631x1113/tas_198411.nc'\n",
       "4. 'tas_f3h-r2631x1113/tas_198412.nc'\n",
       "5. 'tas_f3h-r2631x1113/tas_198501.nc'\n",
       "6. 'tas_f3h-r2631x1113/tas_198502.nc'\n",
       "\n",
       "\n"
      ],
      "text/plain": [
       "[1] \"tas_f3h-r2631x1113/tas_198409.nc\" \"tas_f3h-r2631x1113/tas_198410.nc\"\n",
       "[3] \"tas_f3h-r2631x1113/tas_198411.nc\" \"tas_f3h-r2631x1113/tas_198412.nc\"\n",
       "[5] \"tas_f3h-r2631x1113/tas_198501.nc\" \"tas_f3h-r2631x1113/tas_198502.nc\""
      ]
     },
     "metadata": {},
     "output_type": "display_data"
    }
   ],
   "source": [
    "lf.obs <- list.files(data.dir.obs, pattern = \"tas_\", recursive = T)\n",
    "lf.obs %>% head"
   ]
  },
  {
   "cell_type": "code",
   "execution_count": 4,
   "metadata": {
    "vscode": {
     "languageId": "r"
    }
   },
   "outputs": [
    {
     "data": {
      "text/html": [
       "'tas_f3h-r2631x1113'"
      ],
      "text/latex": [
       "'tas\\_f3h-r2631x1113'"
      ],
      "text/markdown": [
       "'tas_f3h-r2631x1113'"
      ],
      "text/plain": [
       "[1] \"tas_f3h-r2631x1113\""
      ]
     },
     "metadata": {},
     "output_type": "display_data"
    }
   ],
   "source": [
    "dir.obs <- dirname(lf.obs) %>% unique\n",
    "dir.obs"
   ]
  },
  {
   "cell_type": "code",
   "execution_count": 5,
   "metadata": {
    "vscode": {
     "languageId": "r"
    }
   },
   "outputs": [
    {
     "name": "stderr",
     "output_type": "stream",
     "text": [
      "Warning message in dir.create(ncml.dir.obs, recursive = TRUE):\n",
      "“'../data/ncml/CERRA' already exists”\n"
     ]
    }
   ],
   "source": [
    "ncml.dir.obs <- \"../data/ncml/CERRA/\"\n",
    "dir.create(ncml.dir.obs, recursive = TRUE)"
   ]
  },
  {
   "cell_type": "code",
   "execution_count": 6,
   "metadata": {
    "vscode": {
     "languageId": "r"
    }
   },
   "outputs": [],
   "source": [
    "makeAggregatedDataset(source.dir = paste0(data.dir.obs, dir.obs), \n",
    "                      ncml.file = paste0(ncml.dir.obs, dir.obs, \".ncml\"),\n",
    "                      aggr.dim = \"time\") %>% \n",
    "suppressMessages"
   ]
  },
  {
   "cell_type": "code",
   "execution_count": 7,
   "metadata": {
    "vscode": {
     "languageId": "r"
    }
   },
   "outputs": [
    {
     "data": {
      "text/html": [
       "'../data/ncml/CERRA//tas_f3h-r2631x1113.ncml'"
      ],
      "text/latex": [
       "'../data/ncml/CERRA//tas\\_f3h-r2631x1113.ncml'"
      ],
      "text/markdown": [
       "'../data/ncml/CERRA//tas_f3h-r2631x1113.ncml'"
      ],
      "text/plain": [
       "[1] \"../data/ncml/CERRA//tas_f3h-r2631x1113.ncml\""
      ]
     },
     "metadata": {},
     "output_type": "display_data"
    }
   ],
   "source": [
    "dataset.obs <- list.files(ncml.dir.obs, full.names = T) \n",
    "dataset.obs"
   ]
  },
  {
   "cell_type": "code",
   "execution_count": 8,
   "metadata": {
    "vscode": {
     "languageId": "r"
    }
   },
   "outputs": [
    {
     "name": "stderr",
     "output_type": "stream",
     "text": [
      "[2024-04-25 19:09:52] Doing inventory ...\n",
      "\n",
      "[2024-04-25 19:09:53] Retrieving info for 'tas' (0 vars remaining)\n",
      "\n",
      "[2024-04-25 19:09:53] Done.\n",
      "\n"
     ]
    }
   ],
   "source": [
    "di <- dataInventory(dataset.obs)"
   ]
  },
  {
   "cell_type": "code",
   "execution_count": 9,
   "metadata": {
    "vscode": {
     "languageId": "r"
    }
   },
   "outputs": [
    {
     "data": {
      "text/html": [
       "'1984-09-01T10:30:00Z - 2021-06-30T10:30:00Z'"
      ],
      "text/latex": [
       "'1984-09-01T10:30:00Z - 2021-06-30T10:30:00Z'"
      ],
      "text/markdown": [
       "'1984-09-01T10:30:00Z - 2021-06-30T10:30:00Z'"
      ],
      "text/plain": [
       "[1] \"1984-09-01T10:30:00Z - 2021-06-30T10:30:00Z\""
      ]
     },
     "metadata": {},
     "output_type": "display_data"
    }
   ],
   "source": [
    "di$tas$Dimensions$time$Date_range"
   ]
  },
  {
   "cell_type": "markdown",
   "metadata": {},
   "source": [
    "## 1.2. Decadal predictions"
   ]
  },
  {
   "cell_type": "code",
   "execution_count": 10,
   "metadata": {
    "vscode": {
     "languageId": "r"
    }
   },
   "outputs": [],
   "source": [
    "data.dir <- \"../../IMPETUS4CHANGE/data/ESGF/CMIP6/DCPP/EC-Earth-Consortium/EC-Earth3/dcppA-hindcast/\""
   ]
  },
  {
   "cell_type": "code",
   "execution_count": 11,
   "metadata": {
    "vscode": {
     "languageId": "r"
    }
   },
   "outputs": [
    {
     "data": {
      "text/html": [
       "<style>\n",
       ".list-inline {list-style: none; margin:0; padding: 0}\n",
       ".list-inline>li {display: inline-block}\n",
       ".list-inline>li:not(:last-child)::after {content: \"\\00b7\"; padding: 0 .5ex}\n",
       "</style>\n",
       "<ol class=list-inline><li>'s1960-r1i4p1f1/day/tas/gr/v20220322/tas_day_EC-Earth3_dcppA-hindcast_s1960-r1i4p1f1_gr_19601101-19611031.nc'</li><li>'s1960-r1i4p1f1/day/tas/gr/v20220322/tas_day_EC-Earth3_dcppA-hindcast_s1960-r1i4p1f1_gr_19611101-19621031.nc'</li><li>'s1960-r1i4p1f1/day/tas/gr/v20220322/tas_day_EC-Earth3_dcppA-hindcast_s1960-r1i4p1f1_gr_19621101-19631031.nc'</li><li>'s1960-r1i4p1f1/day/tas/gr/v20220322/tas_day_EC-Earth3_dcppA-hindcast_s1960-r1i4p1f1_gr_19631101-19641031.nc'</li><li>'s1960-r1i4p1f1/day/tas/gr/v20220322/tas_day_EC-Earth3_dcppA-hindcast_s1960-r1i4p1f1_gr_19641101-19651031.nc'</li><li>'s1960-r1i4p1f1/day/tas/gr/v20220322/tas_day_EC-Earth3_dcppA-hindcast_s1960-r1i4p1f1_gr_19651101-19661031.nc'</li></ol>\n"
      ],
      "text/latex": [
       "\\begin{enumerate*}\n",
       "\\item 's1960-r1i4p1f1/day/tas/gr/v20220322/tas\\_day\\_EC-Earth3\\_dcppA-hindcast\\_s1960-r1i4p1f1\\_gr\\_19601101-19611031.nc'\n",
       "\\item 's1960-r1i4p1f1/day/tas/gr/v20220322/tas\\_day\\_EC-Earth3\\_dcppA-hindcast\\_s1960-r1i4p1f1\\_gr\\_19611101-19621031.nc'\n",
       "\\item 's1960-r1i4p1f1/day/tas/gr/v20220322/tas\\_day\\_EC-Earth3\\_dcppA-hindcast\\_s1960-r1i4p1f1\\_gr\\_19621101-19631031.nc'\n",
       "\\item 's1960-r1i4p1f1/day/tas/gr/v20220322/tas\\_day\\_EC-Earth3\\_dcppA-hindcast\\_s1960-r1i4p1f1\\_gr\\_19631101-19641031.nc'\n",
       "\\item 's1960-r1i4p1f1/day/tas/gr/v20220322/tas\\_day\\_EC-Earth3\\_dcppA-hindcast\\_s1960-r1i4p1f1\\_gr\\_19641101-19651031.nc'\n",
       "\\item 's1960-r1i4p1f1/day/tas/gr/v20220322/tas\\_day\\_EC-Earth3\\_dcppA-hindcast\\_s1960-r1i4p1f1\\_gr\\_19651101-19661031.nc'\n",
       "\\end{enumerate*}\n"
      ],
      "text/markdown": [
       "1. 's1960-r1i4p1f1/day/tas/gr/v20220322/tas_day_EC-Earth3_dcppA-hindcast_s1960-r1i4p1f1_gr_19601101-19611031.nc'\n",
       "2. 's1960-r1i4p1f1/day/tas/gr/v20220322/tas_day_EC-Earth3_dcppA-hindcast_s1960-r1i4p1f1_gr_19611101-19621031.nc'\n",
       "3. 's1960-r1i4p1f1/day/tas/gr/v20220322/tas_day_EC-Earth3_dcppA-hindcast_s1960-r1i4p1f1_gr_19621101-19631031.nc'\n",
       "4. 's1960-r1i4p1f1/day/tas/gr/v20220322/tas_day_EC-Earth3_dcppA-hindcast_s1960-r1i4p1f1_gr_19631101-19641031.nc'\n",
       "5. 's1960-r1i4p1f1/day/tas/gr/v20220322/tas_day_EC-Earth3_dcppA-hindcast_s1960-r1i4p1f1_gr_19641101-19651031.nc'\n",
       "6. 's1960-r1i4p1f1/day/tas/gr/v20220322/tas_day_EC-Earth3_dcppA-hindcast_s1960-r1i4p1f1_gr_19651101-19661031.nc'\n",
       "\n",
       "\n"
      ],
      "text/plain": [
       "[1] \"s1960-r1i4p1f1/day/tas/gr/v20220322/tas_day_EC-Earth3_dcppA-hindcast_s1960-r1i4p1f1_gr_19601101-19611031.nc\"\n",
       "[2] \"s1960-r1i4p1f1/day/tas/gr/v20220322/tas_day_EC-Earth3_dcppA-hindcast_s1960-r1i4p1f1_gr_19611101-19621031.nc\"\n",
       "[3] \"s1960-r1i4p1f1/day/tas/gr/v20220322/tas_day_EC-Earth3_dcppA-hindcast_s1960-r1i4p1f1_gr_19621101-19631031.nc\"\n",
       "[4] \"s1960-r1i4p1f1/day/tas/gr/v20220322/tas_day_EC-Earth3_dcppA-hindcast_s1960-r1i4p1f1_gr_19631101-19641031.nc\"\n",
       "[5] \"s1960-r1i4p1f1/day/tas/gr/v20220322/tas_day_EC-Earth3_dcppA-hindcast_s1960-r1i4p1f1_gr_19641101-19651031.nc\"\n",
       "[6] \"s1960-r1i4p1f1/day/tas/gr/v20220322/tas_day_EC-Earth3_dcppA-hindcast_s1960-r1i4p1f1_gr_19651101-19661031.nc\""
      ]
     },
     "metadata": {},
     "output_type": "display_data"
    },
    {
     "data": {
      "text/html": [
       "<style>\n",
       ".list-inline {list-style: none; margin:0; padding: 0}\n",
       ".list-inline>li {display: inline-block}\n",
       ".list-inline>li:not(:last-child)::after {content: \"\\00b7\"; padding: 0 .5ex}\n",
       "</style>\n",
       "<ol class=list-inline><li>'s2003-r1i4p1f1/day/tas/gr/v20220322/tas_day_EC-Earth3_dcppA-hindcast_s2003-r1i4p1f1_gr_20081101-20091031.nc'</li><li>'s2003-r1i4p1f1/day/tas/gr/v20220322/tas_day_EC-Earth3_dcppA-hindcast_s2003-r1i4p1f1_gr_20091101-20101031.nc'</li><li>'s2003-r1i4p1f1/day/tas/gr/v20220322/tas_day_EC-Earth3_dcppA-hindcast_s2003-r1i4p1f1_gr_20101101-20111031.nc'</li><li>'s2003-r1i4p1f1/day/tas/gr/v20220322/tas_day_EC-Earth3_dcppA-hindcast_s2003-r1i4p1f1_gr_20111101-20121031.nc'</li><li>'s2003-r1i4p1f1/day/tas/gr/v20220322/tas_day_EC-Earth3_dcppA-hindcast_s2003-r1i4p1f1_gr_20121101-20131031.nc'</li><li>'s2003-r1i4p1f1/day/tas/gr/v20220322/tas_day_EC-Earth3_dcppA-hindcast_s2003-r1i4p1f1_gr_20131101-20141031.nc'</li></ol>\n"
      ],
      "text/latex": [
       "\\begin{enumerate*}\n",
       "\\item 's2003-r1i4p1f1/day/tas/gr/v20220322/tas\\_day\\_EC-Earth3\\_dcppA-hindcast\\_s2003-r1i4p1f1\\_gr\\_20081101-20091031.nc'\n",
       "\\item 's2003-r1i4p1f1/day/tas/gr/v20220322/tas\\_day\\_EC-Earth3\\_dcppA-hindcast\\_s2003-r1i4p1f1\\_gr\\_20091101-20101031.nc'\n",
       "\\item 's2003-r1i4p1f1/day/tas/gr/v20220322/tas\\_day\\_EC-Earth3\\_dcppA-hindcast\\_s2003-r1i4p1f1\\_gr\\_20101101-20111031.nc'\n",
       "\\item 's2003-r1i4p1f1/day/tas/gr/v20220322/tas\\_day\\_EC-Earth3\\_dcppA-hindcast\\_s2003-r1i4p1f1\\_gr\\_20111101-20121031.nc'\n",
       "\\item 's2003-r1i4p1f1/day/tas/gr/v20220322/tas\\_day\\_EC-Earth3\\_dcppA-hindcast\\_s2003-r1i4p1f1\\_gr\\_20121101-20131031.nc'\n",
       "\\item 's2003-r1i4p1f1/day/tas/gr/v20220322/tas\\_day\\_EC-Earth3\\_dcppA-hindcast\\_s2003-r1i4p1f1\\_gr\\_20131101-20141031.nc'\n",
       "\\end{enumerate*}\n"
      ],
      "text/markdown": [
       "1. 's2003-r1i4p1f1/day/tas/gr/v20220322/tas_day_EC-Earth3_dcppA-hindcast_s2003-r1i4p1f1_gr_20081101-20091031.nc'\n",
       "2. 's2003-r1i4p1f1/day/tas/gr/v20220322/tas_day_EC-Earth3_dcppA-hindcast_s2003-r1i4p1f1_gr_20091101-20101031.nc'\n",
       "3. 's2003-r1i4p1f1/day/tas/gr/v20220322/tas_day_EC-Earth3_dcppA-hindcast_s2003-r1i4p1f1_gr_20101101-20111031.nc'\n",
       "4. 's2003-r1i4p1f1/day/tas/gr/v20220322/tas_day_EC-Earth3_dcppA-hindcast_s2003-r1i4p1f1_gr_20111101-20121031.nc'\n",
       "5. 's2003-r1i4p1f1/day/tas/gr/v20220322/tas_day_EC-Earth3_dcppA-hindcast_s2003-r1i4p1f1_gr_20121101-20131031.nc'\n",
       "6. 's2003-r1i4p1f1/day/tas/gr/v20220322/tas_day_EC-Earth3_dcppA-hindcast_s2003-r1i4p1f1_gr_20131101-20141031.nc'\n",
       "\n",
       "\n"
      ],
      "text/plain": [
       "[1] \"s2003-r1i4p1f1/day/tas/gr/v20220322/tas_day_EC-Earth3_dcppA-hindcast_s2003-r1i4p1f1_gr_20081101-20091031.nc\"\n",
       "[2] \"s2003-r1i4p1f1/day/tas/gr/v20220322/tas_day_EC-Earth3_dcppA-hindcast_s2003-r1i4p1f1_gr_20091101-20101031.nc\"\n",
       "[3] \"s2003-r1i4p1f1/day/tas/gr/v20220322/tas_day_EC-Earth3_dcppA-hindcast_s2003-r1i4p1f1_gr_20101101-20111031.nc\"\n",
       "[4] \"s2003-r1i4p1f1/day/tas/gr/v20220322/tas_day_EC-Earth3_dcppA-hindcast_s2003-r1i4p1f1_gr_20111101-20121031.nc\"\n",
       "[5] \"s2003-r1i4p1f1/day/tas/gr/v20220322/tas_day_EC-Earth3_dcppA-hindcast_s2003-r1i4p1f1_gr_20121101-20131031.nc\"\n",
       "[6] \"s2003-r1i4p1f1/day/tas/gr/v20220322/tas_day_EC-Earth3_dcppA-hindcast_s2003-r1i4p1f1_gr_20131101-20141031.nc\""
      ]
     },
     "metadata": {},
     "output_type": "display_data"
    }
   ],
   "source": [
    "lf <- list.files(data.dir, recursive = T, pattern = 'tas_.*hindcast')\n",
    "lf %>% head; lf %>% tail"
   ]
  },
  {
   "cell_type": "code",
   "execution_count": 12,
   "metadata": {
    "vscode": {
     "languageId": "r"
    }
   },
   "outputs": [
    {
     "data": {
      "text/html": [
       "<style>\n",
       ".list-inline {list-style: none; margin:0; padding: 0}\n",
       ".list-inline>li {display: inline-block}\n",
       ".list-inline>li:not(:last-child)::after {content: \"\\00b7\"; padding: 0 .5ex}\n",
       "</style>\n",
       "<ol class=list-inline><li>'s1960-r1i4p1f1/day/tas/gr/v20220322'</li><li>'s1961-r1i4p1f1/day/tas/gr/v20220322'</li><li>'s1962-r1i4p1f1/day/tas/gr/v20220322'</li><li>'s1963-r1i4p1f1/day/tas/gr/v20220322'</li><li>'s1964-r1i4p1f1/day/tas/gr/v20220322'</li><li>'s1965-r1i4p1f1/day/tas/gr/v20220322'</li></ol>\n"
      ],
      "text/latex": [
       "\\begin{enumerate*}\n",
       "\\item 's1960-r1i4p1f1/day/tas/gr/v20220322'\n",
       "\\item 's1961-r1i4p1f1/day/tas/gr/v20220322'\n",
       "\\item 's1962-r1i4p1f1/day/tas/gr/v20220322'\n",
       "\\item 's1963-r1i4p1f1/day/tas/gr/v20220322'\n",
       "\\item 's1964-r1i4p1f1/day/tas/gr/v20220322'\n",
       "\\item 's1965-r1i4p1f1/day/tas/gr/v20220322'\n",
       "\\end{enumerate*}\n"
      ],
      "text/markdown": [
       "1. 's1960-r1i4p1f1/day/tas/gr/v20220322'\n",
       "2. 's1961-r1i4p1f1/day/tas/gr/v20220322'\n",
       "3. 's1962-r1i4p1f1/day/tas/gr/v20220322'\n",
       "4. 's1963-r1i4p1f1/day/tas/gr/v20220322'\n",
       "5. 's1964-r1i4p1f1/day/tas/gr/v20220322'\n",
       "6. 's1965-r1i4p1f1/day/tas/gr/v20220322'\n",
       "\n",
       "\n"
      ],
      "text/plain": [
       "[1] \"s1960-r1i4p1f1/day/tas/gr/v20220322\" \"s1961-r1i4p1f1/day/tas/gr/v20220322\"\n",
       "[3] \"s1962-r1i4p1f1/day/tas/gr/v20220322\" \"s1963-r1i4p1f1/day/tas/gr/v20220322\"\n",
       "[5] \"s1964-r1i4p1f1/day/tas/gr/v20220322\" \"s1965-r1i4p1f1/day/tas/gr/v20220322\""
      ]
     },
     "metadata": {},
     "output_type": "display_data"
    },
    {
     "data": {
      "text/html": [
       "<style>\n",
       ".list-inline {list-style: none; margin:0; padding: 0}\n",
       ".list-inline>li {display: inline-block}\n",
       ".list-inline>li:not(:last-child)::after {content: \"\\00b7\"; padding: 0 .5ex}\n",
       "</style>\n",
       "<ol class=list-inline><li>'s1998-r1i4p1f1/day/tas/gr/v20220322'</li><li>'s1999-r1i4p1f1/day/tas/gr/v20220322'</li><li>'s2000-r1i4p1f1/day/tas/gr/v20220322'</li><li>'s2001-r1i4p1f1/day/tas/gr/v20220322'</li><li>'s2002-r1i4p1f1/day/tas/gr/v20220322'</li><li>'s2003-r1i4p1f1/day/tas/gr/v20220322'</li></ol>\n"
      ],
      "text/latex": [
       "\\begin{enumerate*}\n",
       "\\item 's1998-r1i4p1f1/day/tas/gr/v20220322'\n",
       "\\item 's1999-r1i4p1f1/day/tas/gr/v20220322'\n",
       "\\item 's2000-r1i4p1f1/day/tas/gr/v20220322'\n",
       "\\item 's2001-r1i4p1f1/day/tas/gr/v20220322'\n",
       "\\item 's2002-r1i4p1f1/day/tas/gr/v20220322'\n",
       "\\item 's2003-r1i4p1f1/day/tas/gr/v20220322'\n",
       "\\end{enumerate*}\n"
      ],
      "text/markdown": [
       "1. 's1998-r1i4p1f1/day/tas/gr/v20220322'\n",
       "2. 's1999-r1i4p1f1/day/tas/gr/v20220322'\n",
       "3. 's2000-r1i4p1f1/day/tas/gr/v20220322'\n",
       "4. 's2001-r1i4p1f1/day/tas/gr/v20220322'\n",
       "5. 's2002-r1i4p1f1/day/tas/gr/v20220322'\n",
       "6. 's2003-r1i4p1f1/day/tas/gr/v20220322'\n",
       "\n",
       "\n"
      ],
      "text/plain": [
       "[1] \"s1998-r1i4p1f1/day/tas/gr/v20220322\" \"s1999-r1i4p1f1/day/tas/gr/v20220322\"\n",
       "[3] \"s2000-r1i4p1f1/day/tas/gr/v20220322\" \"s2001-r1i4p1f1/day/tas/gr/v20220322\"\n",
       "[5] \"s2002-r1i4p1f1/day/tas/gr/v20220322\" \"s2003-r1i4p1f1/day/tas/gr/v20220322\""
      ]
     },
     "metadata": {},
     "output_type": "display_data"
    }
   ],
   "source": [
    "dir.inits <- dirname(lf) %>% unique\n",
    "dir.inits %>% head; dir.inits %>% tail"
   ]
  },
  {
   "cell_type": "code",
   "execution_count": 13,
   "metadata": {
    "vscode": {
     "languageId": "r"
    }
   },
   "outputs": [
    {
     "name": "stderr",
     "output_type": "stream",
     "text": [
      "Warning message in dir.create(ncml.dir, recursive = TRUE):\n",
      "“'../data/ncml/EC-Earth3/dcppA-hindcast' already exists”\n"
     ]
    }
   ],
   "source": [
    "ncml.dir <- \"../data/ncml/EC-Earth3/dcppA-hindcast/\"\n",
    "dir.create(ncml.dir, recursive = TRUE)"
   ]
  },
  {
   "cell_type": "code",
   "execution_count": null,
   "metadata": {
    "vscode": {
     "languageId": "r"
    }
   },
   "outputs": [],
   "source": [
    "lapply(dir.inits, function(x) \n",
    "                    makeAggregatedDataset(source.dir = paste0(data.dir, x), \n",
    "                                          ncml.file = paste0(ncml.dir, gsub(\"/\", \"_\", x), \".ncml\"),\n",
    "                                          aggr.dim = \"time\")) %>% \n",
    "                    suppressMessages"
   ]
  },
  {
   "cell_type": "code",
   "execution_count": 15,
   "metadata": {
    "vscode": {
     "languageId": "r"
    }
   },
   "outputs": [
    {
     "data": {
      "text/html": [
       "<style>\n",
       ".list-inline {list-style: none; margin:0; padding: 0}\n",
       ".list-inline>li {display: inline-block}\n",
       ".list-inline>li:not(:last-child)::after {content: \"\\00b7\"; padding: 0 .5ex}\n",
       "</style>\n",
       "<ol class=list-inline><li>'../data/ncml/EC-Earth3/dcppA-hindcast//s1960-r1i4p1f1_day_tas_gr_v20220322.ncml'</li><li>'../data/ncml/EC-Earth3/dcppA-hindcast//s1961-r1i4p1f1_day_tas_gr_v20220322.ncml'</li><li>'../data/ncml/EC-Earth3/dcppA-hindcast//s1962-r1i4p1f1_day_tas_gr_v20220322.ncml'</li><li>'../data/ncml/EC-Earth3/dcppA-hindcast//s1963-r1i4p1f1_day_tas_gr_v20220322.ncml'</li><li>'../data/ncml/EC-Earth3/dcppA-hindcast//s1964-r1i4p1f1_day_tas_gr_v20220322.ncml'</li><li>'../data/ncml/EC-Earth3/dcppA-hindcast//s1965-r1i4p1f1_day_tas_gr_v20220322.ncml'</li></ol>\n"
      ],
      "text/latex": [
       "\\begin{enumerate*}\n",
       "\\item '../data/ncml/EC-Earth3/dcppA-hindcast//s1960-r1i4p1f1\\_day\\_tas\\_gr\\_v20220322.ncml'\n",
       "\\item '../data/ncml/EC-Earth3/dcppA-hindcast//s1961-r1i4p1f1\\_day\\_tas\\_gr\\_v20220322.ncml'\n",
       "\\item '../data/ncml/EC-Earth3/dcppA-hindcast//s1962-r1i4p1f1\\_day\\_tas\\_gr\\_v20220322.ncml'\n",
       "\\item '../data/ncml/EC-Earth3/dcppA-hindcast//s1963-r1i4p1f1\\_day\\_tas\\_gr\\_v20220322.ncml'\n",
       "\\item '../data/ncml/EC-Earth3/dcppA-hindcast//s1964-r1i4p1f1\\_day\\_tas\\_gr\\_v20220322.ncml'\n",
       "\\item '../data/ncml/EC-Earth3/dcppA-hindcast//s1965-r1i4p1f1\\_day\\_tas\\_gr\\_v20220322.ncml'\n",
       "\\end{enumerate*}\n"
      ],
      "text/markdown": [
       "1. '../data/ncml/EC-Earth3/dcppA-hindcast//s1960-r1i4p1f1_day_tas_gr_v20220322.ncml'\n",
       "2. '../data/ncml/EC-Earth3/dcppA-hindcast//s1961-r1i4p1f1_day_tas_gr_v20220322.ncml'\n",
       "3. '../data/ncml/EC-Earth3/dcppA-hindcast//s1962-r1i4p1f1_day_tas_gr_v20220322.ncml'\n",
       "4. '../data/ncml/EC-Earth3/dcppA-hindcast//s1963-r1i4p1f1_day_tas_gr_v20220322.ncml'\n",
       "5. '../data/ncml/EC-Earth3/dcppA-hindcast//s1964-r1i4p1f1_day_tas_gr_v20220322.ncml'\n",
       "6. '../data/ncml/EC-Earth3/dcppA-hindcast//s1965-r1i4p1f1_day_tas_gr_v20220322.ncml'\n",
       "\n",
       "\n"
      ],
      "text/plain": [
       "[1] \"../data/ncml/EC-Earth3/dcppA-hindcast//s1960-r1i4p1f1_day_tas_gr_v20220322.ncml\"\n",
       "[2] \"../data/ncml/EC-Earth3/dcppA-hindcast//s1961-r1i4p1f1_day_tas_gr_v20220322.ncml\"\n",
       "[3] \"../data/ncml/EC-Earth3/dcppA-hindcast//s1962-r1i4p1f1_day_tas_gr_v20220322.ncml\"\n",
       "[4] \"../data/ncml/EC-Earth3/dcppA-hindcast//s1963-r1i4p1f1_day_tas_gr_v20220322.ncml\"\n",
       "[5] \"../data/ncml/EC-Earth3/dcppA-hindcast//s1964-r1i4p1f1_day_tas_gr_v20220322.ncml\"\n",
       "[6] \"../data/ncml/EC-Earth3/dcppA-hindcast//s1965-r1i4p1f1_day_tas_gr_v20220322.ncml\""
      ]
     },
     "metadata": {},
     "output_type": "display_data"
    }
   ],
   "source": [
    "datasets <- list.files(ncml.dir, full.names = T) \n",
    "datasets %>% head"
   ]
  },
  {
   "cell_type": "markdown",
   "metadata": {},
   "source": [
    "### 1.3. Perform a data inventory"
   ]
  },
  {
   "cell_type": "code",
   "execution_count": 2,
   "metadata": {
    "vscode": {
     "languageId": "r"
    }
   },
   "outputs": [
    {
     "name": "stderr",
     "output_type": "stream",
     "text": [
      "[2024-04-26 08:39:08] Doing inventory ...\n",
      "\n",
      "[2024-04-26 08:39:11] Retrieving info for 'tas' (0 vars remaining)\n",
      "\n",
      "[2024-04-26 08:39:11] Done.\n",
      "\n"
     ]
    }
   ],
   "source": [
    "di <- dataInventory(\"../data/ncml/EC-Earth3/dcppA-hindcast//s1960-r1i4p1f1_day_tas_gr_v20220322.ncml\")"
   ]
  },
  {
   "cell_type": "code",
   "execution_count": 3,
   "metadata": {
    "vscode": {
     "languageId": "r"
    }
   },
   "outputs": [
    {
     "name": "stdout",
     "output_type": "stream",
     "text": [
      "List of 1\n",
      " $ tas:List of 7\n",
      "  ..$ Description: chr \"Near-Surface Air Temperature\"\n",
      "  ..$ DataType   : chr \"float\"\n",
      "  ..$ Shape      : int [1:3] 4017 256 512\n",
      "  ..$ Units      : chr \"K\"\n",
      "  ..$ DataSizeMb : num 2106\n",
      "  ..$ Version    : logi NA\n",
      "  ..$ Dimensions :List of 3\n",
      "  .. ..$ time:List of 4\n",
      "  .. .. ..$ Type      : chr \"Time\"\n",
      "  .. .. ..$ TimeStep  : chr \"1.0 days\"\n",
      "  .. .. ..$ Units     : chr \"days since 1850-01-01 00:00:00\"\n",
      "  .. .. ..$ Date_range: chr \"1960-11-01T12:00:00Z - 1971-10-31T12:00:00Z\"\n",
      "  .. ..$ lat :List of 5\n",
      "  .. .. ..$ Type       : chr \"Lat\"\n",
      "  .. .. ..$ Units      : chr \"degrees_north\"\n",
      "  .. .. ..$ Values     : num [1:256] -89.5 -88.8 -88.1 -87.4 -86.7 ...\n",
      "  .. .. ..$ Shape      : int 256\n",
      "  .. .. ..$ Coordinates: chr \"lat\"\n",
      "  .. ..$ lon :List of 5\n",
      "  .. .. ..$ Type       : chr \"Lon\"\n",
      "  .. .. ..$ Units      : chr \"degrees_east\"\n",
      "  .. .. ..$ Values     : num [1:512] 0 0.703 1.406 2.109 2.812 ...\n",
      "  .. .. ..$ Shape      : int 512\n",
      "  .. .. ..$ Coordinates: chr \"lon\"\n"
     ]
    }
   ],
   "source": [
    "str(di)"
   ]
  }
 ],
 "metadata": {
  "kernelspec": {
   "display_name": "climate4R",
   "language": "R",
   "name": "climate4r"
  },
  "language_info": {
   "codemirror_mode": "r",
   "file_extension": ".r",
   "mimetype": "text/x-r-source",
   "name": "R",
   "pygments_lexer": "r",
   "version": "3.6.3"
  }
 },
 "nbformat": 4,
 "nbformat_minor": 4
}
