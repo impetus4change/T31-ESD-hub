{
 "cells": [
  {
   "attachments": {},
   "cell_type": "markdown",
   "id": "000d717d-4c8e-4e38-aaa5-f0df41157288",
   "metadata": {},
   "source": [
    "## EMPIRICAL STATISTICAL DOWNSCALING (ESD) FOR SEASONAL CLIMATE PREDICTIONS\n",
    "\n",
    "**DATE HERE**\n",
    "\n",
    "**names and affiliations here**\n",
    "\n",
    "**Welcome to the I4C-Hub notebook for the ESD of seasonal climate predictions!**  \n",
    "\n",
    "This notebook is prepared to provide you a guideline to recap the ESD analysis conducted for the seasonal climate predictions in the scope of I4C project. It is a platform that makes the users enable to reproduce the data generated in the project. It offers **transparent access to a wide range of information and data**, thereby promoting robust scientific investigations and supporting climate change assessment efforts.\n",
    "\n",
    "This guideline is divided into several sections. We will begin by outlining the overarching aim and motivation behind the IPCC-Hub, clarifying its purpose and significance in the realm of climate research. Subsequently, we delve into the Description of the available material within the IPCC-Hub, providing insights into the diverse datasets and resources at your disposal for climate analysis. Finally, in the section on Data loading and basic data operations, **we walk you through the fundamental steps required to start working with climate data effectively**.\n"
   ]
  },
  {
   "attachments": {},
   "cell_type": "markdown",
   "id": "8338b93c-647e-4f24-995c-00c3b1c037c8",
   "metadata": {},
   "source": [
    "### Contents in this notebook\n",
    "DONT FORGET TO UPDATE!!!\n",
    "1) Aim and motivation of the IPCC-Hub\n",
    "2) Description of the available material within the IPCC-Hub\n",
    "3) Data loading and basic data operations\n",
    "   * 3.1. Library loading\n",
    "   * 3.2. Data loading\n",
    "   * 3.3. The structure of the *climate4R* grid\n",
    "   * 3.4. Initial Data Exploration Plots\n",
    "   * 3.5. Calculation of anomalies (future projections - historical simulations)\n",
    "   * 3.6. Spatial aggregation"
   ]
  },
  {
   "attachments": {},
   "cell_type": "markdown",
   "id": "a41c4651-cc53-4be4-bdbd-32083017fc0c",
   "metadata": {},
   "source": [
    "### 3. Required Packages"
   ]
  },
  {
   "cell_type": "code",
   "execution_count": 13,
   "id": "2a584737-1f6e-47a1-abe7-6a2bcd32a210",
   "metadata": {},
   "outputs": [
    {
     "name": "stderr",
     "output_type": "stream",
     "text": [
      "Warning message:\n",
      "“package ‘startR’ was built under R version 4.2.3”\n",
      "Warning message:\n",
      "“package ‘s2dv’ was built under R version 4.2.3”\n",
      "\n",
      "Attaching package: ‘s2dv’\n",
      "\n",
      "\n",
      "The following object is masked from ‘package:base’:\n",
      "\n",
      "    Filter\n",
      "\n",
      "\n",
      "Warning message:\n",
      "“package ‘easyNCDF’ was built under R version 4.2.3”\n",
      "Warning message:\n",
      "“package ‘ClimProjDiags’ was built under R version 4.2.3”\n",
      "\n",
      "Attaching package: ‘CSIndicators’\n",
      "\n",
      "\n",
      "The following object is masked from ‘package:ClimProjDiags’:\n",
      "\n",
      "    Threshold\n",
      "\n",
      "\n",
      "Warning message:\n",
      "“package ‘log4r’ was built under R version 4.2.3”\n",
      "\n",
      "Attaching package: ‘log4r’\n",
      "\n",
      "\n",
      "The following object is masked from ‘package:base’:\n",
      "\n",
      "    debug\n",
      "\n",
      "\n",
      "Warning message:\n",
      "“package ‘docopt’ was built under R version 4.2.3”\n",
      "Warning message:\n",
      "“package ‘multiApply’ was built under R version 4.2.3”\n",
      "Warning message:\n",
      "“package ‘abind’ was built under R version 4.2.3”\n",
      "Loading required package: maps\n",
      "\n",
      "Warning message:\n",
      "“package ‘maps’ was built under R version 4.2.3”\n",
      "Loading required package: qmap\n",
      "\n",
      "Loading required package: fitdistrplus\n",
      "\n",
      "Loading required package: MASS\n",
      "\n",
      "Warning message:\n",
      "“package ‘MASS’ was built under R version 4.2.3”\n",
      "Loading required package: survival\n",
      "\n",
      "Loading required package: easyVerification\n",
      "\n",
      "Warning message:\n",
      "“package ‘easyVerification’ was built under R version 4.2.3”\n",
      "Loading required package: SpecsVerification\n",
      "\n",
      "\n",
      "Attaching package: ‘SpecsVerification’\n",
      "\n",
      "\n",
      "The following object is masked from ‘package:s2dv’:\n",
      "\n",
      "    Corr\n",
      "\n",
      "\n",
      "\n",
      "Attaching package: ‘easyVerification’\n",
      "\n",
      "\n",
      "The following object is masked from ‘package:SpecsVerification’:\n",
      "\n",
      "    EnsCorr\n",
      "\n",
      "\n",
      "Warning message:\n",
      "“package ‘lubridate’ was built under R version 4.2.3”\n",
      "\n",
      "Attaching package: ‘lubridate’\n",
      "\n",
      "\n",
      "The following objects are masked from ‘package:base’:\n",
      "\n",
      "    date, intersect, setdiff, union\n",
      "\n",
      "\n",
      "Warning message:\n",
      "“package ‘PCICt’ was built under R version 4.2.3”\n",
      "Warning message:\n",
      "“package ‘clock’ was built under R version 4.2.3”\n",
      "\n",
      "Attaching package: ‘clock’\n",
      "\n",
      "\n",
      "The following object is masked from ‘package:lubridate’:\n",
      "\n",
      "    as_date\n",
      "\n",
      "\n",
      "Warning message:\n",
      "“package ‘configr’ was built under R version 4.2.3”\n",
      "Linking to GEOS 3.11.0, GDAL 3.5.2, PROJ 9.1.0; sf_use_s2() is TRUE\n",
      "\n",
      "Warning message:\n",
      "“package ‘ggplot2’ was built under R version 4.2.3”\n",
      "The legacy packages maptools, rgdal, and rgeos, underpinning the sp package,\n",
      "which was just loaded, will retire in October 2023.\n",
      "Please refer to R-spatial evolution reports for details, especially\n",
      "https://r-spatial.org/r/2023/05/15/evolution4.html.\n",
      "It may be desirable to make the sf package available;\n",
      "package maintainers should consider adding sf to Suggests:.\n",
      "The sp package is now running under evolution status 2\n",
      "     (status 2 uses the sf package in place of rgdal)\n",
      "\n",
      "Warning message:\n",
      "“package ‘cowplot’ was built under R version 4.2.3”\n",
      "\n",
      "Attaching package: ‘cowplot’\n",
      "\n",
      "\n",
      "The following object is masked from ‘package:lubridate’:\n",
      "\n",
      "    stamp\n",
      "\n",
      "\n",
      "Warning message:\n",
      "“package ‘stringr’ was built under R version 4.2.3”\n",
      "Warning message:\n",
      "“package ‘pryr’ was built under R version 4.2.3”\n",
      "Warning message:\n",
      "“package ‘formattable’ was built under R version 4.2.3”\n",
      "\n",
      "Attaching package: ‘formattable’\n",
      "\n",
      "\n",
      "The following object is masked from ‘package:MASS’:\n",
      "\n",
      "    area\n",
      "\n",
      "\n",
      "Warning message:\n",
      "“package ‘kableExtra’ was built under R version 4.2.3”\n",
      "Warning message:\n",
      "“package ‘memuse’ was built under R version 4.2.3”\n",
      "Warning message in Sys.setlocale(\"LC_ALL\", \"en_GB.UTF-8\"):\n",
      "“OS reports request to set locale to \"en_GB.UTF-8\" cannot be honored”\n"
     ]
    }
   ],
   "source": [
    "library(startR)\n",
    "library(s2dv)\n",
    "library(easyNCDF)\n",
    "library(ncdf4)\n",
    "library(ClimProjDiags)\n",
    "library(CSIndicators)\n",
    "setwd(\"/home/jovyan/sunset\")\n",
    "source(\"modules/Loading/Loading.R\")\n",
    "source(\"modules/Downscaling/Downscaling.R\")\n",
    "source(\"modules/Skill/Skill.R\")"
   ]
  },
  {
   "cell_type": "markdown",
   "id": "7e10f013-44f8-4fba-8d6d-f18c4e653a3c",
   "metadata": {},
   "source": [
    "### 4. Input Parameters\n",
    "1. **var**: Which variable to be downscaled. Available variables:\n",
    "   * hurs: Relative humidity\n",
    "   * prlr: Precipitation\n",
    "   * sfcWind: Surface wind\n",
    "   * tas: Temperature\n",
    "   * tasmax: Maximum temperature\n",
    "   * tasmin: Minimum temperature\n",
    "2. **dwn_type**: Which downscaling methods to be applied. Available methods:\n",
    "   * analogs: Analogs method\n",
    "   * intbc: Interpolation + bias correction\n",
    "   * intlr: Interpolation + linear regression\n",
    "   * logreg: Logistic regression\n",
    "3. **freq**: Temporal resolution of the data to be downscaled. Available options are \"daily_data\" or \"monthly_day\". Usage of the daily_data is only recommended for the analogs. Other than this method, the improvement does not exist or marginal, despite adding a huge amount of computational load.\n",
    "4. **int_method**: Interpolation method to be used to disaggregate the coarse scale model data to the high observation resolution. Only required when dwn_type is **'intbc'**, **'intlr'** or **'logreg'**. Otherwise, it should be set to **NULL**. Available methods:\n",
    "   * bic: Bicubic interpolation\n",
    "   * bil: Bilinear interpolation\n",
    "   * con: Conservative interpolation\n",
    "   * con2: Second-order conservative interpolation\n",
    "   * dis: Inverse distance weighted (IDW) interpolation\n",
    "   * laf: Largest area fraction interpolation\n",
    "   * nn: Nearest neighbour interpolation\n",
    "5. **bc_method**: Bias adjustment or calibration method to be applied on the disaggregated data through the int_method. Only required when dwn_type is **'intbc'**. Otherwise, it should be set to **NULL**. Available methods:\n",
    "   * bias: Simple bias adjustment\n",
    "   * crps_min: Minimization of continuous ranked probability score (CPRS)\n",
    "   * evmos: Variance inflation method\n",
    "   * mse_min: Minimization of mean squared error (MSE)\n",
    "   * qm: Quantile mapping method\n",
    "   * rpc-based: Maximization of ratio of predictable components (RPC)\n",
    "6. **lr_method**: Linear regression method. Only required when dwn_type is **'intlr'**. Otherwise, it should be set to **NULL**. Available methods:\n",
    "   * basic: Basic linear regression. This method is applied on the disaggregated data through the int_method.\n",
    "   * 4nn: Four nearest neighbours. 4nn skips the interpolation step since the method itself inherently downscale the coarse resolution data to the reference data resolution without the need for interpolation.\n",
    "7. **log_reg_method**: Logistic regression method to be utilized on the disaggregated data through the int_method. Only required when dwn_type is **'logreg'**. Otherwise, it should be set to **NULL**. Available methods:\n",
    "   * ens_mean: Usage of the ensemble mean for each time step as the predictor\n",
    "   * ens_mean_sd: Usage of the mean and standard deviation of the ensemble for each time step as the predictor\n",
    "   * sorted_members: Usage of the ensemble member values as the predictor after sorted them in decreasing order for each time step\n",
    "8. **nanalogs**: An integer indicating the number of analogs to be searched. Only required when dwn_type is **'analogs'**. Otherwise, it should be set to **NULL**.\n",
    "9. **target_month**: An integer representing the month to be downscaled (ranging from 1 to 12).\n",
    "10. **lt**: Lead time ranging from 0 to 3. For example, if the target month is 2 and the lead time is 0, predictions for February obtained from the GCM initiated in February will be downscaled. If the target month is 2 and the lead time is 1, predictions for February obtained from the GCM initiated in January will be downscaled, and so on.\n",
    "11. **demon**: The demonstrator (i.e., region), over where the downscaling will be carried out. Available options:\n",
    "    * Bergen\n",
    "    * Catalonia\n",
    "    * Paris\n",
    "    * Prague"
   ]
  },
  {
   "cell_type": "code",
   "execution_count": 14,
   "id": "85270228-10ed-46fc-a10f-311f5938b9bf",
   "metadata": {},
   "outputs": [],
   "source": [
    "var <- \"tas\"\n",
    "dwn_type <- \"analogs\"\n",
    "freq <- \"daily_mean\"\n",
    "int_method <- NULL\n",
    "bc_method <- NULL\n",
    "lr_method <- NULL\n",
    "log_reg_method <- NULL \n",
    "nanalogs <- 1\n",
    "target_month <- 1\n",
    "lt <- 0\n",
    "demon <- \"Catalonia\""
   ]
  },
  {
   "cell_type": "markdown",
   "id": "7aa556d0-446c-458a-965c-a5bbe0119d91",
   "metadata": {},
   "source": [
    "### 5. Loading data\n",
    "Before loading the model and reference data, the recipe file should be imported. The recipe is a configuration file through which datasets, forecast horizon, time period, downscaling methods and skill metrics to compute are specified. A base recipe file is already prepared. The required parts are edited based on the user inputs provided above:"
   ]
  },
  {
   "cell_type": "code",
   "execution_count": 21,
   "id": "129a9b6a-cd3e-488d-b4f1-daca67914b9b",
   "metadata": {
    "scrolled": true
   },
   "outputs": [
    {
     "name": "stdout",
     "output_type": "stream",
     "text": [
      "[1] \"Saving all outputs to:\"\n",
      "[1] \"/home/jovyan/work/out-logs/Recipe_seasonal_20240710103621\"\n",
      "INFO  [2024-07-10 10:36:21] SUNSET: SUbseasoNal to decadal climate forecast post-processing and asSEssmenT suite\n",
      "    Copyright (C) 2024 BSC-CNS\n",
      "    This program is free software: you can redistribute it and/or modify\n",
      "    it under the terms of the GNU General Public License as published by\n",
      "    the Free Software Foundation, either version 3 of the License, or\n",
      "    (at your option) any later version.\n",
      "    This program is distributed in the hope that it will be useful,\n",
      "    but WITHOUT ANY WARRANTY; without even the implied warranty of\n",
      "    MERCHANTABILITY or FITNESS FOR A PARTICULAR PURPOSE.  See the\n",
      "    GNU General Public License for more details.\n",
      "    You should have received a copy of the GNU General Public License\n",
      "    along with this program.  If not, see <http://www.gnu.org/licenses/>.\n",
      "INFO  [2024-07-10 10:36:21] Checking recipe: /home/jovyan/T31-ESD-hub/Notebooks/Recipe_seasonal.yml\n",
      "WARN  [2024-07-10 10:36:21] The element 'fcst_year' is not defined in the recipe. No forecast year will be used.\n",
      "WARN  [2024-07-10 10:36:21] No Calibration method was specified, raw data verification.\n",
      "WARN  [2024-07-10 10:36:21] Downscaling 'type' is empty in the recipe, setting it to 'none'.\n",
      "INFO  [2024-07-10 10:36:21] ##### RECIPE CHECK SUCCESSFULL #####\n"
     ]
    }
   ],
   "source": [
    "diffmon <- target_month - lt\n",
    "smonth <- paste0(sprintf('%02d', ifelse(diffmon > 0, diffmon, 12 + diffmon)), '01')\n",
    "# Read recipe\n",
    "recipe_file <- paste0(\"/home/jovyan/T31-ESD-hub/Notebooks/Recipe_seasonal.yml\")\n",
    "recipe <- prepare_outputs(recipe_file)\n",
    "recipe$Analysis$Time$sdate <- smonth\n",
    "recipe$Analysis$Time$ftime_min <- lt+1\n",
    "recipe$Analysis$Time$ftime_max <- lt+1\n",
    "recipe$Analysis$Variables$name <- var\n",
    "recipe$Analysis$Variables$freq <- freq\n",
    "if (tolower(demon) == \"catalonia\") {\n",
    "  recipe$Analysis$Region$latmin <- 39\n",
    "  recipe$Analysis$Region$latmax <- 44\n",
    "  recipe$Analysis$Region$lonmin <- -1\n",
    "  recipe$Analysis$Region$lonmax <- 4\n",
    "} else if (tolower(demon) == \"bergen\") {\n",
    "  recipe$Analysis$Region$latmin <- 58\n",
    "  recipe$Analysis$Region$latmax <- 63\n",
    "  recipe$Analysis$Region$lonmin <- 4\n",
    "  recipe$Analysis$Region$lonmax <- 9\n",
    "} else if (tolower(demon) == \"paris\") {\n",
    "  recipe$Analysis$Region$latmin <- 46.5\n",
    "  recipe$Analysis$Region$latmax <- 51.5\n",
    "  recipe$Analysis$Region$lonmin <- -.5\n",
    "  recipe$Analysis$Region$lonmax <- 4.5\n",
    "} else if (tolower(demon) == \"prague\") {\n",
    "  recipe$Analysis$Region$latmin <- 47.5\n",
    "  recipe$Analysis$Region$latmax <- 52.5\n",
    "  recipe$Analysis$Region$lonmin <- 12\n",
    "  recipe$Analysis$Region$lonmax <- 17\n",
    "}"
   ]
  },
  {
   "cell_type": "code",
   "execution_count": 26,
   "id": "8f734f80-8450-459b-8b95-5b67527ecd4d",
   "metadata": {
    "scrolled": true
   },
   "outputs": [
    {
     "data": {
      "text/html": [
       "1"
      ],
      "text/latex": [
       "1"
      ],
      "text/markdown": [
       "1"
      ],
      "text/plain": [
       "[1] 1"
      ]
     },
     "metadata": {},
     "output_type": "display_data"
    }
   ],
   "source": [
    "diffmon <- target_month - lt\n",
    "smonth <- paste0(sprintf('%02d', ifelse(diffmon > 0, diffmon, 12 + diffmon)), '01')"
   ]
  },
  {
   "cell_type": "markdown",
   "id": "e68920a0-2480-4cd0-b1fc-6f58b29d0b1e",
   "metadata": {},
   "source": [
    "Now, data can be retrieved via the Loading module of the Sunset package. "
   ]
  },
  {
   "cell_type": "code",
   "execution_count": 20,
   "id": "888b4360-8d1c-4bb4-91b5-748395a67835",
   "metadata": {},
   "outputs": [
    {
     "name": "stdout",
     "output_type": "stream",
     "text": [
      "INFO  [2024-07-10 10:35:58] fcst_year empty in the recipe, creating empty fcst object...\n"
     ]
    },
    {
     "ename": "ERROR",
     "evalue": "Error in 1:hcst.nmember: argument of length 0\n",
     "output_type": "error",
     "traceback": [
      "Error in 1:hcst.nmember: argument of length 0\nTraceback:\n",
      "1. Loading(recipe)",
      "2. load_seasonal(recipe)",
      "3. Start(dat = hcst.path, var = variable, var_dir = var_dir_exp, \n .     file_date = sdates$hcst, time = idxs$hcst, var_dir_depends = \"var\", \n .     latitude = values(list(lats.min, lats.max)), latitude_reorder = Sort(), \n .     longitude = values(list(lons.min, lons.max)), longitude_reorder = circularsort, \n .     transform = regrid_params$fcst.transform, transform_params = list(grid = regrid_params$fcst.gridtype, \n .         method = regrid_params$fcst.gridmethod), transform_vars = c(\"latitude\", \n .         \"longitude\"), synonims = list(latitude = c(\"lat\", \"latitude\"), \n .         longitude = c(\"lon\", \"longitude\"), ensemble = c(\"member\", \n .             \"ensemble\")), ensemble = indices(1:hcst.nmember), \n .     metadata_dims = \"var\", return_vars = list(latitude = \"dat\", \n .         longitude = \"dat\", time = \"file_date\"), split_multiselected_dims = split_multiselected_dims, \n .     retrieve = TRUE)",
      "4. indices(1:hcst.nmember)"
     ]
    }
   ],
   "source": [
    "data <- Loading(recipe)\n",
    "dim(data$hcst$data)\n",
    "dim(data$obs$data)\n",
    "#nc <- nc_open(\"/home/jovyan/IMPETUS4CHANGE/data/BSC/ECMWF-SEAS5/monthly_mean/tas_f6h/tas_20180501.nc\")\n",
    "#nc"
   ]
  },
  {
   "cell_type": "markdown",
   "id": "ba067c69-7f3c-4ce0-a72c-2f74051b6cb4",
   "metadata": {},
   "source": [
    "### 6. Downscaling\n"
   ]
  },
  {
   "cell_type": "code",
   "execution_count": 113,
   "id": "b7bb99fe-d491-4907-9f40-05861e2720a1",
   "metadata": {},
   "outputs": [],
   "source": [
    "# compute climatologies\n",
    "clim_hcst <- Apply(data$hcst$data, target_dims = c('syear','ensemble'), mean, na.rm = T)$output1\n",
    "clim_obs <- Apply(data$obs$data, target_dims = c('syear','ensemble'), mean, na.rm = T)$output1\n",
    "# compute anomalies\n",
    "if (dwn_type != \"Intbc\") {\n",
    "  data$hcst$data <- Ano(data = data$hcst$data, clim = clim_hcst)\n",
    "  data$obs$data <- Ano(data = data$obs$data, clim = clim_obs)\n",
    "}\n",
    "# Modify the recipe\n",
    "recipe$Analysis$Workflow$Downscaling$type           <- dwn_type\n",
    "recipe$Analysis$Workflow$Downscaling$int_method     <- int_method\n",
    "recipe$Analysis$Workflow$Downscaling$bc_method      <- bc_method\n",
    "recipe$Analysis$Workflow$Downscaling$lr_method      <- lr_method\n",
    "recipe$Analysis$Workflow$Downscaling$log_reg_method <- log_reg_method\n",
    "recipe$Analysis$Workflow$Downscaling$nanalogs       <- nanalogs"
   ]
  },
  {
   "cell_type": "markdown",
   "id": "2150e7db-6787-40b4-9628-aa1720cba172",
   "metadata": {},
   "source": [
    "After preparing the recipe accordingly, the data can be downscaled through the Downscaling function."
   ]
  },
  {
   "cell_type": "code",
   "execution_count": 114,
   "id": "90b34678-0c36-429a-9dd4-086f491f9966",
   "metadata": {},
   "outputs": [
    {
     "name": "stdout",
     "output_type": "stream",
     "text": [
      "[1] \"Downscaling is being performed.\"\n"
     ]
    },
    {
     "name": "stderr",
     "output_type": "stream",
     "text": [
      "Warning message in Analogs(exp = exp$data, obs = obs$data, obsL = obsL$data, exp_lats = exp$coords[[lat_dim]], :\n",
      "“The borders of the downscaling region have not been provided. Assuming the four borders of the downscaling region are defined by the first and last elements of the parameters 'exp_lats' and 'exp_lons'.”\n",
      "Warning message:\n",
      "“! Warning: CDORemap: Using CDO version 2.4.0.”\n",
      "Warning message:\n",
      "“! Warning: CDORemap: Using CDO version 2.4.0.”\n"
     ]
    },
    {
     "name": "stdout",
     "output_type": "stream",
     "text": [
      "[1] \"##### DOWNSCALING COMPLETE #####\"\n"
     ]
    }
   ],
   "source": [
    "# Downscale datasets\n",
    "downscaled_data <- Downscaling(recipe, data)"
   ]
  },
  {
   "cell_type": "markdown",
   "id": "7a15b90b-60f8-4a33-9132-6422e880f6d7",
   "metadata": {},
   "source": [
    "### 7. Skill Calculation"
   ]
  },
  {
   "cell_type": "code",
   "execution_count": 118,
   "id": "831368e7-4962-4b67-958d-1fb653973963",
   "metadata": {},
   "outputs": [
    {
     "name": "stdout",
     "output_type": "stream",
     "text": [
      "WARN  [2024-03-20 13:40:59] cross_validation parameter not defined, setting it to FALSE.\n",
      "INFO  [2024-03-20 14:29:26] ##### SKILL METRIC COMPUTATION COMPLETE #####\n"
     ]
    }
   ],
   "source": [
    "skill_values <- Skill(recipe, downscaled_data)"
   ]
  },
  {
   "cell_type": "code",
   "execution_count": 119,
   "id": "a974be9d-6a7a-4842-bb76-24860b9d7223",
   "metadata": {},
   "outputs": [
    {
     "data": {
      "text/html": [
       "<style>\n",
       ".dl-inline {width: auto; margin:0; padding: 0}\n",
       ".dl-inline>dt, .dl-inline>dd {float: none; width: auto; display: inline-block}\n",
       ".dl-inline>dt::after {content: \":\\0020\"; padding-right: .5ex}\n",
       ".dl-inline>dt:not(:first-of-type) {padding-left: .5ex}\n",
       "</style><dl class=dl-inline><dt>latitude</dt><dd>100</dd><dt>longitude</dt><dd>100</dd><dt>var</dt><dd>1</dd><dt>time</dt><dd>31</dd></dl>\n"
      ],
      "text/latex": [
       "\\begin{description*}\n",
       "\\item[latitude] 100\n",
       "\\item[longitude] 100\n",
       "\\item[var] 1\n",
       "\\item[time] 31\n",
       "\\end{description*}\n"
      ],
      "text/markdown": [
       "latitude\n",
       ":   100longitude\n",
       ":   100var\n",
       ":   1time\n",
       ":   31\n",
       "\n"
      ],
      "text/plain": [
       " latitude longitude       var      time \n",
       "      100       100         1        31 "
      ]
     },
     "metadata": {},
     "output_type": "display_data"
    }
   ],
   "source": [
    "dim(skill_values$bss10)"
   ]
  }
 ],
 "metadata": {
  "kernelspec": {
   "display_name": "SUNSET",
   "language": "R",
   "name": "sunset"
  },
  "language_info": {
   "codemirror_mode": "r",
   "file_extension": ".r",
   "mimetype": "text/x-r-source",
   "name": "R",
   "pygments_lexer": "r",
   "version": "4.2.2"
  }
 },
 "nbformat": 4,
 "nbformat_minor": 5
}
